{
 "cells": [
  {
   "cell_type": "markdown",
   "id": "d53e82b6",
   "metadata": {},
   "source": [
    "## Problem Statement - Vehicle Insurance\n",
    "\n",
    "The Vehicle Insurance business is a multi-billion dollar industry. Every year millions and millions of premiums are paid, and a huge amount of claims also pile up. \n",
    "\n",
    "You have to step into the shoes of a data scientist who is building models to help an insurance company understand which claims are worth rejecting and the claims which should be accepted for reimbursement. \n",
    "You are given a rich dataset consisting of thousands of rows of past records, which you can use to learn more about your customers’ behaviours. For example, you are supposed to create an ML model to look at a case of an insurance claim and decide whether to reject or accept it. \n",
    "\n",
    "\n",
    "Columns: ['ID', 'AGE', 'GENDER', 'DRIVING_EXPERIENCE', 'EDUCATION', 'INCOME',\n",
    "'CREDIT_SCORE', 'VEHICLE_OWNERSHIP', 'VEHICLE_YEAR', 'MARRIED',\n",
    "'CHILDREN', 'POSTAL_CODE', 'ANNUAL_MILEAGE', 'SPEEDING_VIOLATIONS',\n",
    "'DUIS', 'PAST_ACCIDENTS', 'OUTCOME', 'TYPE_OF_VEHICLE']\n",
    "\n",
    "Learn and predict the OUTCOME variable."
   ]
  },
  {
   "cell_type": "markdown",
   "id": "4f3cb127",
   "metadata": {},
   "source": [
    "### Create an ML model to look at a case of an insurance claim and decide whether to reject or accept it."
   ]
  },
  {
   "cell_type": "code",
   "execution_count": 1,
   "id": "f140d35e",
   "metadata": {},
   "outputs": [],
   "source": [
    "import numpy as np\n",
    "import pandas as pd\n",
    "import matplotlib.pyplot as plt\n",
    "import seaborn as sns\n",
    "import warnings\n",
    "warnings.filterwarnings('ignore')"
   ]
  },
  {
   "cell_type": "code",
   "execution_count": 3,
   "id": "ef67f120",
   "metadata": {},
   "outputs": [],
   "source": [
    "# reading the data files in train,test and submission variables\n",
    "\n",
    "train=pd.read_csv(r\"D:\\hackathon\\train.csv\")\n",
    "test=pd.read_csv(r\"D:\\hackathon\\test.csv\")\n",
    "submission=pd.read_csv(r\"D:\\hackathon\\submission.csv\")"
   ]
  },
  {
   "cell_type": "code",
   "execution_count": 4,
   "id": "a3b3f445",
   "metadata": {},
   "outputs": [
    {
     "data": {
      "text/html": [
       "<div>\n",
       "<style scoped>\n",
       "    .dataframe tbody tr th:only-of-type {\n",
       "        vertical-align: middle;\n",
       "    }\n",
       "\n",
       "    .dataframe tbody tr th {\n",
       "        vertical-align: top;\n",
       "    }\n",
       "\n",
       "    .dataframe thead th {\n",
       "        text-align: right;\n",
       "    }\n",
       "</style>\n",
       "<table border=\"1\" class=\"dataframe\">\n",
       "  <thead>\n",
       "    <tr style=\"text-align: right;\">\n",
       "      <th></th>\n",
       "      <th>ID</th>\n",
       "      <th>AGE</th>\n",
       "      <th>GENDER</th>\n",
       "      <th>DRIVING_EXPERIENCE</th>\n",
       "      <th>EDUCATION</th>\n",
       "      <th>INCOME</th>\n",
       "      <th>CREDIT_SCORE</th>\n",
       "      <th>VEHICLE_OWNERSHIP</th>\n",
       "      <th>VEHICLE_YEAR</th>\n",
       "      <th>MARRIED</th>\n",
       "      <th>CHILDREN</th>\n",
       "      <th>POSTAL_CODE</th>\n",
       "      <th>ANNUAL_MILEAGE</th>\n",
       "      <th>SPEEDING_VIOLATIONS</th>\n",
       "      <th>DUIS</th>\n",
       "      <th>PAST_ACCIDENTS</th>\n",
       "      <th>OUTCOME</th>\n",
       "      <th>TYPE_OF_VEHICLE</th>\n",
       "    </tr>\n",
       "  </thead>\n",
       "  <tbody>\n",
       "    <tr>\n",
       "      <th>0</th>\n",
       "      <td>816393</td>\n",
       "      <td>40-64</td>\n",
       "      <td>female</td>\n",
       "      <td>20-29y</td>\n",
       "      <td>university</td>\n",
       "      <td>middle class</td>\n",
       "      <td>0.638050</td>\n",
       "      <td>0</td>\n",
       "      <td>after 2015</td>\n",
       "      <td>0</td>\n",
       "      <td>0</td>\n",
       "      <td>37379</td>\n",
       "      <td>11000</td>\n",
       "      <td>0</td>\n",
       "      <td>0</td>\n",
       "      <td>0</td>\n",
       "      <td>0</td>\n",
       "      <td>Sports Car</td>\n",
       "    </tr>\n",
       "    <tr>\n",
       "      <th>1</th>\n",
       "      <td>251762</td>\n",
       "      <td>26-39</td>\n",
       "      <td>male</td>\n",
       "      <td>20-29y</td>\n",
       "      <td>high school</td>\n",
       "      <td>middle class</td>\n",
       "      <td>0.475741</td>\n",
       "      <td>1</td>\n",
       "      <td>before 2015</td>\n",
       "      <td>1</td>\n",
       "      <td>0</td>\n",
       "      <td>10238</td>\n",
       "      <td>9000</td>\n",
       "      <td>0</td>\n",
       "      <td>0</td>\n",
       "      <td>0</td>\n",
       "      <td>1</td>\n",
       "      <td>HatchBack</td>\n",
       "    </tr>\n",
       "    <tr>\n",
       "      <th>2</th>\n",
       "      <td>481952</td>\n",
       "      <td>40-64</td>\n",
       "      <td>male</td>\n",
       "      <td>20-29y</td>\n",
       "      <td>none</td>\n",
       "      <td>middle class</td>\n",
       "      <td>0.839817</td>\n",
       "      <td>1</td>\n",
       "      <td>before 2015</td>\n",
       "      <td>1</td>\n",
       "      <td>1</td>\n",
       "      <td>10238</td>\n",
       "      <td>12000</td>\n",
       "      <td>0</td>\n",
       "      <td>0</td>\n",
       "      <td>0</td>\n",
       "      <td>1</td>\n",
       "      <td>Sedan</td>\n",
       "    </tr>\n",
       "  </tbody>\n",
       "</table>\n",
       "</div>"
      ],
      "text/plain": [
       "       ID    AGE  GENDER DRIVING_EXPERIENCE    EDUCATION        INCOME  \\\n",
       "0  816393  40-64  female             20-29y   university  middle class   \n",
       "1  251762  26-39    male             20-29y  high school  middle class   \n",
       "2  481952  40-64    male             20-29y         none  middle class   \n",
       "\n",
       "   CREDIT_SCORE  VEHICLE_OWNERSHIP VEHICLE_YEAR  MARRIED  CHILDREN  \\\n",
       "0      0.638050                  0   after 2015        0         0   \n",
       "1      0.475741                  1  before 2015        1         0   \n",
       "2      0.839817                  1  before 2015        1         1   \n",
       "\n",
       "   POSTAL_CODE  ANNUAL_MILEAGE  SPEEDING_VIOLATIONS  DUIS  PAST_ACCIDENTS  \\\n",
       "0        37379           11000                    0     0               0   \n",
       "1        10238            9000                    0     0               0   \n",
       "2        10238           12000                    0     0               0   \n",
       "\n",
       "   OUTCOME TYPE_OF_VEHICLE  \n",
       "0        0      Sports Car  \n",
       "1        1       HatchBack  \n",
       "2        1           Sedan  "
      ]
     },
     "execution_count": 4,
     "metadata": {},
     "output_type": "execute_result"
    }
   ],
   "source": [
    "# We want to display all the columns:\n",
    "pd.set_option('display.max_columns',50)\n",
    "train.head(3)"
   ]
  },
  {
   "cell_type": "code",
   "execution_count": 5,
   "id": "b8ef4009",
   "metadata": {},
   "outputs": [
    {
     "data": {
      "text/html": [
       "<div>\n",
       "<style scoped>\n",
       "    .dataframe tbody tr th:only-of-type {\n",
       "        vertical-align: middle;\n",
       "    }\n",
       "\n",
       "    .dataframe tbody tr th {\n",
       "        vertical-align: top;\n",
       "    }\n",
       "\n",
       "    .dataframe thead th {\n",
       "        text-align: right;\n",
       "    }\n",
       "</style>\n",
       "<table border=\"1\" class=\"dataframe\">\n",
       "  <thead>\n",
       "    <tr style=\"text-align: right;\">\n",
       "      <th></th>\n",
       "      <th>ID</th>\n",
       "      <th>AGE</th>\n",
       "      <th>GENDER</th>\n",
       "      <th>DRIVING_EXPERIENCE</th>\n",
       "      <th>EDUCATION</th>\n",
       "      <th>INCOME</th>\n",
       "      <th>CREDIT_SCORE</th>\n",
       "      <th>VEHICLE_OWNERSHIP</th>\n",
       "      <th>VEHICLE_YEAR</th>\n",
       "      <th>MARRIED</th>\n",
       "      <th>CHILDREN</th>\n",
       "      <th>POSTAL_CODE</th>\n",
       "      <th>ANNUAL_MILEAGE</th>\n",
       "      <th>SPEEDING_VIOLATIONS</th>\n",
       "      <th>DUIS</th>\n",
       "      <th>PAST_ACCIDENTS</th>\n",
       "      <th>OUTCOME</th>\n",
       "      <th>TYPE_OF_VEHICLE</th>\n",
       "    </tr>\n",
       "  </thead>\n",
       "  <tbody>\n",
       "    <tr>\n",
       "      <th>0</th>\n",
       "      <td>816393</td>\n",
       "      <td>40-64</td>\n",
       "      <td>female</td>\n",
       "      <td>20-29y</td>\n",
       "      <td>university</td>\n",
       "      <td>middle class</td>\n",
       "      <td>0.638050</td>\n",
       "      <td>0</td>\n",
       "      <td>after 2015</td>\n",
       "      <td>0</td>\n",
       "      <td>0</td>\n",
       "      <td>37379</td>\n",
       "      <td>11000</td>\n",
       "      <td>0</td>\n",
       "      <td>0</td>\n",
       "      <td>0</td>\n",
       "      <td>0.0</td>\n",
       "      <td>Sports Car</td>\n",
       "    </tr>\n",
       "    <tr>\n",
       "      <th>1</th>\n",
       "      <td>251762</td>\n",
       "      <td>26-39</td>\n",
       "      <td>male</td>\n",
       "      <td>20-29y</td>\n",
       "      <td>high school</td>\n",
       "      <td>middle class</td>\n",
       "      <td>0.475741</td>\n",
       "      <td>1</td>\n",
       "      <td>before 2015</td>\n",
       "      <td>1</td>\n",
       "      <td>0</td>\n",
       "      <td>10238</td>\n",
       "      <td>9000</td>\n",
       "      <td>0</td>\n",
       "      <td>0</td>\n",
       "      <td>0</td>\n",
       "      <td>1.0</td>\n",
       "      <td>HatchBack</td>\n",
       "    </tr>\n",
       "  </tbody>\n",
       "</table>\n",
       "</div>"
      ],
      "text/plain": [
       "       ID    AGE  GENDER DRIVING_EXPERIENCE    EDUCATION        INCOME  \\\n",
       "0  816393  40-64  female             20-29y   university  middle class   \n",
       "1  251762  26-39    male             20-29y  high school  middle class   \n",
       "\n",
       "   CREDIT_SCORE  VEHICLE_OWNERSHIP VEHICLE_YEAR  MARRIED  CHILDREN  \\\n",
       "0      0.638050                  0   after 2015        0         0   \n",
       "1      0.475741                  1  before 2015        1         0   \n",
       "\n",
       "   POSTAL_CODE  ANNUAL_MILEAGE  SPEEDING_VIOLATIONS  DUIS  PAST_ACCIDENTS  \\\n",
       "0        37379           11000                    0     0               0   \n",
       "1        10238            9000                    0     0               0   \n",
       "\n",
       "   OUTCOME TYPE_OF_VEHICLE  \n",
       "0      0.0      Sports Car  \n",
       "1      1.0       HatchBack  "
      ]
     },
     "execution_count": 5,
     "metadata": {},
     "output_type": "execute_result"
    }
   ],
   "source": [
    "combined = pd.concat([train,test], ignore_index=True)\n",
    "combined.head(2)"
   ]
  },
  {
   "cell_type": "code",
   "execution_count": 6,
   "id": "224bfc68",
   "metadata": {},
   "outputs": [
    {
     "data": {
      "text/plain": [
       "((87285, 18), (17715, 17), (105000, 18))"
      ]
     },
     "execution_count": 6,
     "metadata": {},
     "output_type": "execute_result"
    }
   ],
   "source": [
    "train.shape, test.shape, combined.shape\n",
    "# Our data has 1,05,000 rows and 18 columns"
   ]
  },
  {
   "cell_type": "code",
   "execution_count": 7,
   "id": "5d015fce",
   "metadata": {},
   "outputs": [
    {
     "name": "stdout",
     "output_type": "stream",
     "text": [
      "<class 'pandas.core.frame.DataFrame'>\n",
      "RangeIndex: 105000 entries, 0 to 104999\n",
      "Data columns (total 18 columns):\n",
      " #   Column               Non-Null Count   Dtype  \n",
      "---  ------               --------------   -----  \n",
      " 0   ID                   105000 non-null  int64  \n",
      " 1   AGE                  105000 non-null  object \n",
      " 2   GENDER               105000 non-null  object \n",
      " 3   DRIVING_EXPERIENCE   105000 non-null  object \n",
      " 4   EDUCATION            105000 non-null  object \n",
      " 5   INCOME               105000 non-null  object \n",
      " 6   CREDIT_SCORE         105000 non-null  float64\n",
      " 7   VEHICLE_OWNERSHIP    105000 non-null  int64  \n",
      " 8   VEHICLE_YEAR         105000 non-null  object \n",
      " 9   MARRIED              105000 non-null  int64  \n",
      " 10  CHILDREN             105000 non-null  int64  \n",
      " 11  POSTAL_CODE          105000 non-null  int64  \n",
      " 12  ANNUAL_MILEAGE       105000 non-null  int64  \n",
      " 13  SPEEDING_VIOLATIONS  105000 non-null  int64  \n",
      " 14  DUIS                 105000 non-null  int64  \n",
      " 15  PAST_ACCIDENTS       105000 non-null  int64  \n",
      " 16  OUTCOME              87285 non-null   float64\n",
      " 17  TYPE_OF_VEHICLE      105000 non-null  object \n",
      "dtypes: float64(2), int64(9), object(7)\n",
      "memory usage: 14.4+ MB\n"
     ]
    }
   ],
   "source": [
    "# Lets look at the info\n",
    "combined.info()"
   ]
  },
  {
   "cell_type": "code",
   "execution_count": 8,
   "id": "e3b68aba",
   "metadata": {},
   "outputs": [
    {
     "data": {
      "text/plain": [
       "Index(['ID', 'AGE', 'GENDER', 'DRIVING_EXPERIENCE', 'EDUCATION', 'INCOME',\n",
       "       'CREDIT_SCORE', 'VEHICLE_OWNERSHIP', 'VEHICLE_YEAR', 'MARRIED',\n",
       "       'CHILDREN', 'POSTAL_CODE', 'ANNUAL_MILEAGE', 'SPEEDING_VIOLATIONS',\n",
       "       'DUIS', 'PAST_ACCIDENTS', 'OUTCOME', 'TYPE_OF_VEHICLE'],\n",
       "      dtype='object')"
      ]
     },
     "execution_count": 8,
     "metadata": {},
     "output_type": "execute_result"
    }
   ],
   "source": [
    "combined.columns"
   ]
  },
  {
   "cell_type": "code",
   "execution_count": 9,
   "id": "a1f51cb6",
   "metadata": {},
   "outputs": [
    {
     "data": {
      "text/plain": [
       "Index(['ID', 'CREDIT_SCORE', 'VEHICLE_OWNERSHIP', 'MARRIED', 'CHILDREN',\n",
       "       'POSTAL_CODE', 'ANNUAL_MILEAGE', 'SPEEDING_VIOLATIONS', 'DUIS',\n",
       "       'PAST_ACCIDENTS', 'OUTCOME'],\n",
       "      dtype='object')"
      ]
     },
     "execution_count": 9,
     "metadata": {},
     "output_type": "execute_result"
    }
   ],
   "source": [
    "# Numerical columns\n",
    "num_cols = combined.select_dtypes(include=np.number).columns\n",
    "num_cols"
   ]
  },
  {
   "cell_type": "code",
   "execution_count": 10,
   "id": "1774a31b",
   "metadata": {},
   "outputs": [
    {
     "data": {
      "text/plain": [
       "Index(['AGE', 'GENDER', 'DRIVING_EXPERIENCE', 'EDUCATION', 'INCOME',\n",
       "       'VEHICLE_YEAR', 'TYPE_OF_VEHICLE'],\n",
       "      dtype='object')"
      ]
     },
     "execution_count": 10,
     "metadata": {},
     "output_type": "execute_result"
    }
   ],
   "source": [
    "# Categorical columns\n",
    "cat_cols = combined.select_dtypes(include='object').columns\n",
    "cat_cols"
   ]
  },
  {
   "cell_type": "code",
   "execution_count": 11,
   "id": "2c7c636f",
   "metadata": {
    "scrolled": true
   },
   "outputs": [
    {
     "data": {
      "text/html": [
       "<div>\n",
       "<style scoped>\n",
       "    .dataframe tbody tr th:only-of-type {\n",
       "        vertical-align: middle;\n",
       "    }\n",
       "\n",
       "    .dataframe tbody tr th {\n",
       "        vertical-align: top;\n",
       "    }\n",
       "\n",
       "    .dataframe thead th {\n",
       "        text-align: right;\n",
       "    }\n",
       "</style>\n",
       "<table border=\"1\" class=\"dataframe\">\n",
       "  <thead>\n",
       "    <tr style=\"text-align: right;\">\n",
       "      <th></th>\n",
       "      <th>ID</th>\n",
       "      <th>AGE</th>\n",
       "      <th>GENDER</th>\n",
       "      <th>DRIVING_EXPERIENCE</th>\n",
       "      <th>EDUCATION</th>\n",
       "      <th>INCOME</th>\n",
       "      <th>CREDIT_SCORE</th>\n",
       "      <th>VEHICLE_OWNERSHIP</th>\n",
       "      <th>VEHICLE_YEAR</th>\n",
       "      <th>MARRIED</th>\n",
       "      <th>CHILDREN</th>\n",
       "      <th>POSTAL_CODE</th>\n",
       "      <th>ANNUAL_MILEAGE</th>\n",
       "      <th>SPEEDING_VIOLATIONS</th>\n",
       "      <th>DUIS</th>\n",
       "      <th>PAST_ACCIDENTS</th>\n",
       "      <th>OUTCOME</th>\n",
       "      <th>TYPE_OF_VEHICLE</th>\n",
       "    </tr>\n",
       "  </thead>\n",
       "  <tbody>\n",
       "    <tr>\n",
       "      <th>0</th>\n",
       "      <td>816393</td>\n",
       "      <td>40-64</td>\n",
       "      <td>female</td>\n",
       "      <td>20-29y</td>\n",
       "      <td>university</td>\n",
       "      <td>middle class</td>\n",
       "      <td>0.63805</td>\n",
       "      <td>0</td>\n",
       "      <td>after 2015</td>\n",
       "      <td>0</td>\n",
       "      <td>0</td>\n",
       "      <td>37379</td>\n",
       "      <td>11000</td>\n",
       "      <td>0</td>\n",
       "      <td>0</td>\n",
       "      <td>0</td>\n",
       "      <td>0.0</td>\n",
       "      <td>Sports Car</td>\n",
       "    </tr>\n",
       "  </tbody>\n",
       "</table>\n",
       "</div>"
      ],
      "text/plain": [
       "       ID    AGE  GENDER DRIVING_EXPERIENCE   EDUCATION        INCOME  \\\n",
       "0  816393  40-64  female             20-29y  university  middle class   \n",
       "\n",
       "   CREDIT_SCORE  VEHICLE_OWNERSHIP VEHICLE_YEAR  MARRIED  CHILDREN  \\\n",
       "0       0.63805                  0   after 2015        0         0   \n",
       "\n",
       "   POSTAL_CODE  ANNUAL_MILEAGE  SPEEDING_VIOLATIONS  DUIS  PAST_ACCIDENTS  \\\n",
       "0        37379           11000                    0     0               0   \n",
       "\n",
       "   OUTCOME TYPE_OF_VEHICLE  \n",
       "0      0.0      Sports Car  "
      ]
     },
     "execution_count": 11,
     "metadata": {},
     "output_type": "execute_result"
    }
   ],
   "source": [
    "combined.head(1)"
   ]
  },
  {
   "cell_type": "code",
   "execution_count": 12,
   "id": "39659f2e",
   "metadata": {},
   "outputs": [],
   "source": [
    "# All objects below"
   ]
  },
  {
   "cell_type": "code",
   "execution_count": 13,
   "id": "e540b5f8",
   "metadata": {},
   "outputs": [
    {
     "data": {
      "text/plain": [
       "array(['20-29y', '30y+', '0-9y', '10-19y'], dtype=object)"
      ]
     },
     "execution_count": 13,
     "metadata": {},
     "output_type": "execute_result"
    }
   ],
   "source": [
    "combined.DRIVING_EXPERIENCE.unique()"
   ]
  },
  {
   "cell_type": "code",
   "execution_count": 14,
   "id": "cfd16a3a",
   "metadata": {},
   "outputs": [
    {
     "data": {
      "text/plain": [
       "array(['university', 'high school', 'none'], dtype=object)"
      ]
     },
     "execution_count": 14,
     "metadata": {},
     "output_type": "execute_result"
    }
   ],
   "source": [
    "combined.EDUCATION.unique()"
   ]
  },
  {
   "cell_type": "code",
   "execution_count": 15,
   "id": "f9d42d22",
   "metadata": {},
   "outputs": [
    {
     "data": {
      "text/plain": [
       "array(['middle class', 'upper class', 'working class', 'poverty'],\n",
       "      dtype=object)"
      ]
     },
     "execution_count": 15,
     "metadata": {},
     "output_type": "execute_result"
    }
   ],
   "source": [
    "combined.INCOME.unique()"
   ]
  },
  {
   "cell_type": "code",
   "execution_count": 16,
   "id": "2da1b512",
   "metadata": {},
   "outputs": [
    {
     "data": {
      "text/plain": [
       "(array([0, 1], dtype=int64),\n",
       " array(['after 2015', 'before 2015'], dtype=object))"
      ]
     },
     "execution_count": 16,
     "metadata": {},
     "output_type": "execute_result"
    }
   ],
   "source": [
    "combined.VEHICLE_OWNERSHIP.unique(), combined.VEHICLE_YEAR.unique()"
   ]
  },
  {
   "cell_type": "code",
   "execution_count": 17,
   "id": "6559ec1a",
   "metadata": {},
   "outputs": [
    {
     "data": {
      "text/plain": [
       "(array([0, 1], dtype=int64), array([0, 1], dtype=int64))"
      ]
     },
     "execution_count": 17,
     "metadata": {},
     "output_type": "execute_result"
    }
   ],
   "source": [
    "combined.MARRIED.unique(), combined.CHILDREN.unique()"
   ]
  },
  {
   "cell_type": "code",
   "execution_count": 18,
   "id": "49c08d0d",
   "metadata": {},
   "outputs": [
    {
     "data": {
      "text/plain": [
       "10937"
      ]
     },
     "execution_count": 18,
     "metadata": {},
     "output_type": "execute_result"
    }
   ],
   "source": [
    "combined.POSTAL_CODE.nunique()"
   ]
  },
  {
   "cell_type": "code",
   "execution_count": 19,
   "id": "e0125061",
   "metadata": {},
   "outputs": [
    {
     "data": {
      "text/plain": [
       "array([ 0,  1,  4, 11,  3,  2,  6,  5, 13,  7, 10,  8, 12, 16, 14,  9, 15,\n",
       "       17, 18, 20, 19], dtype=int64)"
      ]
     },
     "execution_count": 19,
     "metadata": {},
     "output_type": "execute_result"
    }
   ],
   "source": [
    "combined.SPEEDING_VIOLATIONS.unique()"
   ]
  },
  {
   "cell_type": "code",
   "execution_count": 20,
   "id": "4e7f754f",
   "metadata": {},
   "outputs": [
    {
     "data": {
      "text/plain": [
       "(array([0, 3, 1, 2, 4, 5, 6], dtype=int64),\n",
       " array([ 0,  1,  2,  4,  5,  7,  6,  9,  3,  8, 13, 10, 12, 15, 11, 14],\n",
       "       dtype=int64))"
      ]
     },
     "execution_count": 20,
     "metadata": {},
     "output_type": "execute_result"
    }
   ],
   "source": [
    "combined.DUIS.unique(), combined.PAST_ACCIDENTS.unique()"
   ]
  },
  {
   "cell_type": "code",
   "execution_count": 21,
   "id": "4697ee26",
   "metadata": {},
   "outputs": [
    {
     "data": {
      "text/plain": [
       "array(['Sports Car', 'HatchBack', 'Sedan', 'SUV'], dtype=object)"
      ]
     },
     "execution_count": 21,
     "metadata": {},
     "output_type": "execute_result"
    }
   ],
   "source": [
    "combined.TYPE_OF_VEHICLE.unique()"
   ]
  },
  {
   "cell_type": "code",
   "execution_count": 22,
   "id": "7e6e2f72",
   "metadata": {},
   "outputs": [
    {
     "data": {
      "text/plain": [
       "array([ 0.,  1., nan])"
      ]
     },
     "execution_count": 22,
     "metadata": {},
     "output_type": "execute_result"
    }
   ],
   "source": [
    "# Target variable\n",
    "combined.OUTCOME.unique()\n",
    "\n",
    "# Contains nan values"
   ]
  },
  {
   "cell_type": "code",
   "execution_count": 23,
   "id": "086efc50",
   "metadata": {},
   "outputs": [
    {
     "data": {
      "text/plain": [
       "ID                         0\n",
       "AGE                        0\n",
       "GENDER                     0\n",
       "DRIVING_EXPERIENCE         0\n",
       "EDUCATION                  0\n",
       "INCOME                     0\n",
       "CREDIT_SCORE               0\n",
       "VEHICLE_OWNERSHIP          0\n",
       "VEHICLE_YEAR               0\n",
       "MARRIED                    0\n",
       "CHILDREN                   0\n",
       "POSTAL_CODE                0\n",
       "ANNUAL_MILEAGE             0\n",
       "SPEEDING_VIOLATIONS        0\n",
       "DUIS                       0\n",
       "PAST_ACCIDENTS             0\n",
       "OUTCOME                17715\n",
       "TYPE_OF_VEHICLE            0\n",
       "dtype: int64"
      ]
     },
     "execution_count": 23,
     "metadata": {},
     "output_type": "execute_result"
    }
   ],
   "source": [
    "# Lets check for missing values\n",
    "combined.isnull().sum()\n",
    "\n",
    "# There seem to be no missing values in the dataset"
   ]
  },
  {
   "cell_type": "code",
   "execution_count": 24,
   "id": "ebb667d6",
   "metadata": {},
   "outputs": [
    {
     "data": {
      "text/plain": [
       "0    0.0\n",
       "Name: OUTCOME, dtype: float64"
      ]
     },
     "execution_count": 24,
     "metadata": {},
     "output_type": "execute_result"
    }
   ],
   "source": [
    "combined.OUTCOME.mode()"
   ]
  },
  {
   "cell_type": "code",
   "execution_count": 25,
   "id": "f140b60c",
   "metadata": {},
   "outputs": [
    {
     "data": {
      "text/plain": [
       "<AxesSubplot:xlabel='OUTCOME', ylabel='count'>"
      ]
     },
     "execution_count": 25,
     "metadata": {},
     "output_type": "execute_result"
    },
    {
     "data": {
      "image/png": "[encoded data removed]",
      "text/plain": [
       "<Figure size 432x288 with 1 Axes>"
      ]
     },
     "metadata": {
      "needs_background": "light"
     },
     "output_type": "display_data"
    }
   ],
   "source": [
    "sns.countplot(combined.OUTCOME)"
   ]
  },
  {
   "cell_type": "code",
   "execution_count": 26,
   "id": "8e7c74c0",
   "metadata": {},
   "outputs": [
    {
     "data": {
      "text/plain": [
       "(array([ 0.,  1., nan]),\n",
       " 0.0    50367\n",
       " 1.0    36918\n",
       " Name: OUTCOME, dtype: int64)"
      ]
     },
     "execution_count": 26,
     "metadata": {},
     "output_type": "execute_result"
    }
   ],
   "source": [
    "combined.OUTCOME.unique(), combined.OUTCOME.value_counts()"
   ]
  },
  {
   "cell_type": "code",
   "execution_count": 27,
   "id": "4ec87e18",
   "metadata": {},
   "outputs": [],
   "source": [
    "combined.replace(to_replace='nan', value=0, inplace=True)"
   ]
  },
  {
   "cell_type": "code",
   "execution_count": 28,
   "id": "c5fd1a37",
   "metadata": {},
   "outputs": [
    {
     "data": {
      "text/plain": [
       "array([ 0.,  1., nan])"
      ]
     },
     "execution_count": 28,
     "metadata": {},
     "output_type": "execute_result"
    }
   ],
   "source": [
    "combined.OUTCOME.unique()"
   ]
  },
  {
   "cell_type": "code",
   "execution_count": 29,
   "id": "7f83cf38",
   "metadata": {
    "scrolled": true
   },
   "outputs": [
    {
     "data": {
      "text/html": [
       "<div>\n",
       "<style scoped>\n",
       "    .dataframe tbody tr th:only-of-type {\n",
       "        vertical-align: middle;\n",
       "    }\n",
       "\n",
       "    .dataframe tbody tr th {\n",
       "        vertical-align: top;\n",
       "    }\n",
       "\n",
       "    .dataframe thead th {\n",
       "        text-align: right;\n",
       "    }\n",
       "</style>\n",
       "<table border=\"1\" class=\"dataframe\">\n",
       "  <thead>\n",
       "    <tr style=\"text-align: right;\">\n",
       "      <th></th>\n",
       "      <th>count</th>\n",
       "      <th>mean</th>\n",
       "      <th>std</th>\n",
       "      <th>min</th>\n",
       "      <th>25%</th>\n",
       "      <th>50%</th>\n",
       "      <th>75%</th>\n",
       "      <th>max</th>\n",
       "    </tr>\n",
       "  </thead>\n",
       "  <tbody>\n",
       "    <tr>\n",
       "      <th>ID</th>\n",
       "      <td>105000.0</td>\n",
       "      <td>394931.295905</td>\n",
       "      <td>279694.106053</td>\n",
       "      <td>101.00000</td>\n",
       "      <td>156351.750000</td>\n",
       "      <td>354679.500000</td>\n",
       "      <td>598602.250000</td>\n",
       "      <td>999976.000000</td>\n",
       "    </tr>\n",
       "    <tr>\n",
       "      <th>CREDIT_SCORE</th>\n",
       "      <td>105000.0</td>\n",
       "      <td>0.602173</td>\n",
       "      <td>0.138045</td>\n",
       "      <td>0.06688</td>\n",
       "      <td>0.514876</td>\n",
       "      <td>0.601112</td>\n",
       "      <td>0.703216</td>\n",
       "      <td>0.954075</td>\n",
       "    </tr>\n",
       "    <tr>\n",
       "      <th>VEHICLE_OWNERSHIP</th>\n",
       "      <td>105000.0</td>\n",
       "      <td>0.827038</td>\n",
       "      <td>0.378216</td>\n",
       "      <td>0.00000</td>\n",
       "      <td>1.000000</td>\n",
       "      <td>1.000000</td>\n",
       "      <td>1.000000</td>\n",
       "      <td>1.000000</td>\n",
       "    </tr>\n",
       "    <tr>\n",
       "      <th>MARRIED</th>\n",
       "      <td>105000.0</td>\n",
       "      <td>0.584143</td>\n",
       "      <td>0.492871</td>\n",
       "      <td>0.00000</td>\n",
       "      <td>0.000000</td>\n",
       "      <td>1.000000</td>\n",
       "      <td>1.000000</td>\n",
       "      <td>1.000000</td>\n",
       "    </tr>\n",
       "    <tr>\n",
       "      <th>CHILDREN</th>\n",
       "      <td>105000.0</td>\n",
       "      <td>0.520000</td>\n",
       "      <td>0.499602</td>\n",
       "      <td>0.00000</td>\n",
       "      <td>0.000000</td>\n",
       "      <td>1.000000</td>\n",
       "      <td>1.000000</td>\n",
       "      <td>1.000000</td>\n",
       "    </tr>\n",
       "    <tr>\n",
       "      <th>POSTAL_CODE</th>\n",
       "      <td>105000.0</td>\n",
       "      <td>18045.439267</td>\n",
       "      <td>16709.040449</td>\n",
       "      <td>10238.00000</td>\n",
       "      <td>10238.000000</td>\n",
       "      <td>10238.000000</td>\n",
       "      <td>22957.750000</td>\n",
       "      <td>92101.000000</td>\n",
       "    </tr>\n",
       "    <tr>\n",
       "      <th>ANNUAL_MILEAGE</th>\n",
       "      <td>105000.0</td>\n",
       "      <td>11061.228571</td>\n",
       "      <td>2972.355482</td>\n",
       "      <td>2000.00000</td>\n",
       "      <td>9000.000000</td>\n",
       "      <td>11000.000000</td>\n",
       "      <td>13000.000000</td>\n",
       "      <td>21000.000000</td>\n",
       "    </tr>\n",
       "    <tr>\n",
       "      <th>SPEEDING_VIOLATIONS</th>\n",
       "      <td>105000.0</td>\n",
       "      <td>0.675676</td>\n",
       "      <td>1.383678</td>\n",
       "      <td>0.00000</td>\n",
       "      <td>0.000000</td>\n",
       "      <td>0.000000</td>\n",
       "      <td>1.000000</td>\n",
       "      <td>20.000000</td>\n",
       "    </tr>\n",
       "    <tr>\n",
       "      <th>DUIS</th>\n",
       "      <td>105000.0</td>\n",
       "      <td>0.129733</td>\n",
       "      <td>0.589714</td>\n",
       "      <td>0.00000</td>\n",
       "      <td>0.000000</td>\n",
       "      <td>0.000000</td>\n",
       "      <td>0.000000</td>\n",
       "      <td>6.000000</td>\n",
       "    </tr>\n",
       "    <tr>\n",
       "      <th>PAST_ACCIDENTS</th>\n",
       "      <td>105000.0</td>\n",
       "      <td>0.549314</td>\n",
       "      <td>1.402809</td>\n",
       "      <td>0.00000</td>\n",
       "      <td>0.000000</td>\n",
       "      <td>0.000000</td>\n",
       "      <td>0.000000</td>\n",
       "      <td>15.000000</td>\n",
       "    </tr>\n",
       "    <tr>\n",
       "      <th>OUTCOME</th>\n",
       "      <td>87285.0</td>\n",
       "      <td>0.422959</td>\n",
       "      <td>0.494032</td>\n",
       "      <td>0.00000</td>\n",
       "      <td>0.000000</td>\n",
       "      <td>0.000000</td>\n",
       "      <td>1.000000</td>\n",
       "      <td>1.000000</td>\n",
       "    </tr>\n",
       "  </tbody>\n",
       "</table>\n",
       "</div>"
      ],
      "text/plain": [
       "                        count           mean            std          min  \\\n",
       "ID                   105000.0  394931.295905  279694.106053    101.00000   \n",
       "CREDIT_SCORE         105000.0       0.602173       0.138045      0.06688   \n",
       "VEHICLE_OWNERSHIP    105000.0       0.827038       0.378216      0.00000   \n",
       "MARRIED              105000.0       0.584143       0.492871      0.00000   \n",
       "CHILDREN             105000.0       0.520000       0.499602      0.00000   \n",
       "POSTAL_CODE          105000.0   18045.439267   16709.040449  10238.00000   \n",
       "ANNUAL_MILEAGE       105000.0   11061.228571    2972.355482   2000.00000   \n",
       "SPEEDING_VIOLATIONS  105000.0       0.675676       1.383678      0.00000   \n",
       "DUIS                 105000.0       0.129733       0.589714      0.00000   \n",
       "PAST_ACCIDENTS       105000.0       0.549314       1.402809      0.00000   \n",
       "OUTCOME               87285.0       0.422959       0.494032      0.00000   \n",
       "\n",
       "                               25%            50%            75%  \\\n",
       "ID                   156351.750000  354679.500000  598602.250000   \n",
       "CREDIT_SCORE              0.514876       0.601112       0.703216   \n",
       "VEHICLE_OWNERSHIP         1.000000       1.000000       1.000000   \n",
       "MARRIED                   0.000000       1.000000       1.000000   \n",
       "CHILDREN                  0.000000       1.000000       1.000000   \n",
       "POSTAL_CODE           10238.000000   10238.000000   22957.750000   \n",
       "ANNUAL_MILEAGE         9000.000000   11000.000000   13000.000000   \n",
       "SPEEDING_VIOLATIONS       0.000000       0.000000       1.000000   \n",
       "DUIS                      0.000000       0.000000       0.000000   \n",
       "PAST_ACCIDENTS            0.000000       0.000000       0.000000   \n",
       "OUTCOME                   0.000000       0.000000       1.000000   \n",
       "\n",
       "                               max  \n",
       "ID                   999976.000000  \n",
       "CREDIT_SCORE              0.954075  \n",
       "VEHICLE_OWNERSHIP         1.000000  \n",
       "MARRIED                   1.000000  \n",
       "CHILDREN                  1.000000  \n",
       "POSTAL_CODE           92101.000000  \n",
       "ANNUAL_MILEAGE        21000.000000  \n",
       "SPEEDING_VIOLATIONS      20.000000  \n",
       "DUIS                      6.000000  \n",
       "PAST_ACCIDENTS           15.000000  \n",
       "OUTCOME                   1.000000  "
      ]
     },
     "execution_count": 29,
     "metadata": {},
     "output_type": "execute_result"
    }
   ],
   "source": [
    "# Lets see the 5 point summary\n",
    "combined.describe().T"
   ]
  },
  {
   "cell_type": "markdown",
   "id": "52ad85c7",
   "metadata": {},
   "source": [
    "## Univariate Analysis"
   ]
  },
  {
   "cell_type": "code",
   "execution_count": 30,
   "id": "46fca583",
   "metadata": {
    "scrolled": true
   },
   "outputs": [
    {
     "data": {
      "image/png": "[encoded data removed]",
      "text/plain": [
       "<Figure size 720x1080 with 7 Axes>"
      ]
     },
     "metadata": {
      "needs_background": "light"
     },
     "output_type": "display_data"
    }
   ],
   "source": [
    "# visualizing numerical columns through a distplot\n",
    "num_cols = [ 'ID', 'CREDIT_SCORE', \n",
    "       'POSTAL_CODE', 'ANNUAL_MILEAGE', 'SPEEDING_VIOLATIONS', 'DUIS',\n",
    "       'PAST_ACCIDENTS']\n",
    "plt.figure(figsize=(10,15))\n",
    "t=1\n",
    "\n",
    "for i in num_cols:\n",
    "    plt.subplot(10,2,t)\n",
    "    sns.distplot(combined[i])\n",
    "    t+=1\n",
    "plt.tight_layout()\n",
    "plt.show()\n",
    "\n",
    "# We can see that the data is highly skewed, we need to reduce the skewness"
   ]
  },
  {
   "cell_type": "code",
   "execution_count": 31,
   "id": "7588f365",
   "metadata": {},
   "outputs": [
    {
     "data": {
      "image/png": "[encoded data removed]",
      "text/plain": [
       "<Figure size 720x1080 with 7 Axes>"
      ]
     },
     "metadata": {
      "needs_background": "light"
     },
     "output_type": "display_data"
    }
   ],
   "source": [
    "# visualizing numerical columns through a boxplot for the detection of outliers\n",
    "num_cols = [ 'ID', 'CREDIT_SCORE', \n",
    "       'POSTAL_CODE', 'ANNUAL_MILEAGE', 'SPEEDING_VIOLATIONS', 'DUIS',\n",
    "       'PAST_ACCIDENTS']\n",
    "plt.figure(figsize=(10,15))\n",
    "t=1\n",
    "\n",
    "for i in num_cols:\n",
    "    plt.subplot(10,2,t)\n",
    "    sns.boxplot(combined[i])\n",
    "    t+=1\n",
    "plt.tight_layout()\n",
    "plt.show()\n",
    "\n",
    "# We can see that the data has a lot of outliers, we need to reduce them"
   ]
  },
  {
   "cell_type": "code",
   "execution_count": 32,
   "id": "4ae1aa62",
   "metadata": {
    "scrolled": true
   },
   "outputs": [
    {
     "data": {
      "image/png": "[encoded data removed]",
      "text/plain": [
       "<Figure size 720x1080 with 11 Axes>"
      ]
     },
     "metadata": {
      "needs_background": "light"
     },
     "output_type": "display_data"
    }
   ],
   "source": [
    "# visualizing categorical columns through a countplot\n",
    "\n",
    "cat_cols = ['AGE', 'GENDER', 'DRIVING_EXPERIENCE', 'EDUCATION', 'INCOME',\n",
    "       'VEHICLE_YEAR', 'TYPE_OF_VEHICLE', 'VEHICLE_OWNERSHIP', 'MARRIED', 'CHILDREN', 'OUTCOME']\n",
    "plt.figure(figsize=(10,15))\n",
    "t=1\n",
    "for i in cat_cols:\n",
    "    plt.subplot(6,2,t)\n",
    "    sns.countplot(combined[i])\n",
    "    plt.xticks(rotation=90)\n",
    "    t+=1\n",
    "plt.tight_layout()\n",
    "plt.show()"
   ]
  },
  {
   "cell_type": "markdown",
   "id": "f8e569d2",
   "metadata": {},
   "source": [
    "## Bivariate analysis"
   ]
  },
  {
   "cell_type": "code",
   "execution_count": 33,
   "id": "38cb3a1d",
   "metadata": {
    "scrolled": true
   },
   "outputs": [
    {
     "data": {
      "image/png": "[encoded data removed]",
      "text/plain": [
       "<Figure size 720x1080 with 7 Axes>"
      ]
     },
     "metadata": {
      "needs_background": "light"
     },
     "output_type": "display_data"
    }
   ],
   "source": [
    "num_cols = [ 'ID', 'CREDIT_SCORE', \n",
    "       'POSTAL_CODE', 'ANNUAL_MILEAGE', 'SPEEDING_VIOLATIONS', 'DUIS',\n",
    "       'PAST_ACCIDENTS']\n",
    "\n",
    "plt.figure(figsize=(10,15))\n",
    "t=1\n",
    "for i in num_cols:\n",
    "    plt.subplot(5,3,t)\n",
    "    sns.boxplot(combined.OUTCOME,combined[i])\n",
    "    t+=1\n",
    "plt.tight_layout()\n",
    "plt.show()\n",
    "    "
   ]
  },
  {
   "cell_type": "code",
   "execution_count": 34,
   "id": "5de5bfae",
   "metadata": {},
   "outputs": [],
   "source": [
    "import scipy.stats as stats"
   ]
  },
  {
   "cell_type": "code",
   "execution_count": 35,
   "id": "fa86a242",
   "metadata": {},
   "outputs": [
    {
     "data": {
      "text/plain": [
       "['ID',\n",
       " 'CREDIT_SCORE',\n",
       " 'POSTAL_CODE',\n",
       " 'ANNUAL_MILEAGE',\n",
       " 'SPEEDING_VIOLATIONS',\n",
       " 'DUIS',\n",
       " 'PAST_ACCIDENTS']"
      ]
     },
     "execution_count": 35,
     "metadata": {},
     "output_type": "execute_result"
    }
   ],
   "source": [
    "num_cols"
   ]
  },
  {
   "cell_type": "code",
   "execution_count": 36,
   "id": "2db56e05",
   "metadata": {},
   "outputs": [],
   "source": [
    "nums = ['CREDIT_SCORE',\n",
    " 'POSTAL_CODE',\n",
    " 'ANNUAL_MILEAGE']"
   ]
  },
  {
   "cell_type": "code",
   "execution_count": 37,
   "id": "e6c03c2f",
   "metadata": {},
   "outputs": [
    {
     "name": "stdout",
     "output_type": "stream",
     "text": [
      "[]\n"
     ]
    }
   ],
   "source": [
    "# To see the imp. features\n",
    "# Apply the statistical test\n",
    "\n",
    "# Two sample independent Ttest\n",
    "# Ho: features have no effect on the tgt or viveversa\n",
    "# H1: features have effect on the tgt or viveversa\n",
    "\n",
    "\n",
    "imp_feats=[]\n",
    "\n",
    "for i in nums:\n",
    "    zero=combined.loc[combined.OUTCOME==0,i]\n",
    "    one=combined.loc[combined.OUTCOME==1,i]\n",
    "    teststats,pvalue=stats.ttest_ind(zero,one,alternative=\"two-sided\")\n",
    "    if pvalue<0.05:\n",
    "        imp_feats.append(i)\n",
    "print(imp_feats)\n",
    "\n",
    "# It shows there no imp feature amongst the 3 numerical columns as such, therefore the list is empty."
   ]
  },
  {
   "cell_type": "code",
   "execution_count": 38,
   "id": "98644360",
   "metadata": {},
   "outputs": [
    {
     "name": "stdout",
     "output_type": "stream",
     "text": [
      "['GENDER', 'DRIVING_EXPERIENCE', 'TYPE_OF_VEHICLE', 'OUTCOME']\n"
     ]
    }
   ],
   "source": [
    "# for seeing the imp features through chi2 test\n",
    "\n",
    "# Cat vs Tgt\n",
    "\n",
    "cat_feats=[]\n",
    "\n",
    "for i in cat_cols:\n",
    "    tbl = pd.crosstab(combined.loc[:,i],combined.OUTCOME)\n",
    "    teststats, pvalue, dof, exp_freq = stats.chi2_contingency(tbl)\n",
    "    if pvalue<0.05:\n",
    "        cat_feats.append(i)\n",
    "        \n",
    "print(cat_feats) "
   ]
  },
  {
   "cell_type": "code",
   "execution_count": 39,
   "id": "47710329",
   "metadata": {},
   "outputs": [
    {
     "name": "stdout",
     "output_type": "stream",
     "text": [
      "['ANNUAL_MILEAGE']\n"
     ]
    }
   ],
   "source": [
    "# Important features\n",
    "cat_feats=[]\n",
    "for i in num_cols:\n",
    "    tbl=pd.crosstab(combined[i],combined.OUTCOME)\n",
    "    teststats,pvalue,dof,exp_freq=stats.chi2_contingency(tbl)\n",
    "    \n",
    "    if pvalue<0.05:\n",
    "        cat_feats.append(i)\n",
    "print(cat_feats)"
   ]
  },
  {
   "cell_type": "code",
   "execution_count": 40,
   "id": "6c4a4dd0",
   "metadata": {
    "scrolled": true
   },
   "outputs": [
    {
     "data": {
      "image/png": "[encoded data removed]",
      "text/plain": [
       "<Figure size 720x1080 with 3 Axes>"
      ]
     },
     "metadata": {
      "needs_background": "light"
     },
     "output_type": "display_data"
    }
   ],
   "source": [
    "plt.figure(figsize=(10,15))\n",
    "\n",
    "num_cols = [ 'CREDIT_SCORE', \n",
    "       'POSTAL_CODE', 'ANNUAL_MILEAGE']\n",
    "t=1\n",
    "for i in num_cols:\n",
    "    plt.subplot(7,2,t)\n",
    "    sns.distplot(combined[i])\n",
    "    plt.title('Skewness %.2f'%combined[i].skew())\n",
    "    t+=1\n",
    "plt.tight_layout()\n",
    "plt.show()\n",
    "\n",
    "# drop id"
   ]
  },
  {
   "cell_type": "markdown",
   "id": "215e9dd5",
   "metadata": {},
   "source": [
    "## Treatment of outliers"
   ]
  },
  {
   "cell_type": "code",
   "execution_count": 41,
   "id": "cf94d73a",
   "metadata": {},
   "outputs": [],
   "source": [
    "combined['CREDIT_SCORE'] = stats.yeojohnson(pd.DataFrame(combined['CREDIT_SCORE']))[0].reshape(combined.shape[0])"
   ]
  },
  {
   "cell_type": "code",
   "execution_count": 42,
   "id": "53f24de5",
   "metadata": {},
   "outputs": [],
   "source": [
    "combined['POSTAL_CODE'] = stats.yeojohnson(pd.DataFrame(combined['POSTAL_CODE']))[0].reshape(combined.shape[0])"
   ]
  },
  {
   "cell_type": "code",
   "execution_count": 43,
   "id": "e398ab4c",
   "metadata": {},
   "outputs": [],
   "source": [
    "combined['ANNUAL_MILEAGE'] = stats.yeojohnson(pd.DataFrame(combined['ANNUAL_MILEAGE']))[0].reshape(combined.shape[0])"
   ]
  },
  {
   "cell_type": "code",
   "execution_count": 44,
   "id": "b9bc3a2a",
   "metadata": {},
   "outputs": [
    {
     "data": {
      "text/plain": [
       "ID                     0.448392\n",
       "CREDIT_SCORE          -0.010415\n",
       "VEHICLE_OWNERSHIP     -1.729404\n",
       "MARRIED               -0.341446\n",
       "CHILDREN              -0.080065\n",
       "POSTAL_CODE            0.000000\n",
       "ANNUAL_MILEAGE        -0.090756\n",
       "SPEEDING_VIOLATIONS    3.899817\n",
       "DUIS                   5.608688\n",
       "PAST_ACCIDENTS         4.345520\n",
       "OUTCOME                0.311893\n",
       "dtype: float64"
      ]
     },
     "execution_count": 44,
     "metadata": {},
     "output_type": "execute_result"
    }
   ],
   "source": [
    "combined.skew()"
   ]
  },
  {
   "cell_type": "code",
   "execution_count": 45,
   "id": "db581e03",
   "metadata": {
    "scrolled": true
   },
   "outputs": [
    {
     "data": {
      "image/png": "[encoded data removed]",
      "text/plain": [
       "<Figure size 720x1080 with 3 Axes>"
      ]
     },
     "metadata": {
      "needs_background": "light"
     },
     "output_type": "display_data"
    }
   ],
   "source": [
    "# Lets visualize Histogram again\n",
    "\n",
    "plt.figure(figsize=(10,15))\n",
    "\n",
    "num_cols = [ 'CREDIT_SCORE', \n",
    "       'POSTAL_CODE', 'ANNUAL_MILEAGE']\n",
    "t=1\n",
    "for i in num_cols:\n",
    "    plt.subplot(7,2,t)\n",
    "    sns.distplot(combined[i])\n",
    "    plt.title('Skewness %.2f'%combined[i].skew())\n",
    "    t+=1\n",
    "plt.tight_layout()\n",
    "plt.show()\n",
    "\n",
    "# We can see that the data is close to normal and the skewness is reduced."
   ]
  },
  {
   "cell_type": "code",
   "execution_count": 46,
   "id": "8863eef6",
   "metadata": {},
   "outputs": [
    {
     "data": {
      "text/plain": [
       "<AxesSubplot:>"
      ]
     },
     "execution_count": 46,
     "metadata": {},
     "output_type": "execute_result"
    },
    {
     "data": {
      "image/png": "[encoded data removed]",
      "text/plain": [
       "<Figure size 720x720 with 2 Axes>"
      ]
     },
     "metadata": {
      "needs_background": "light"
     },
     "output_type": "display_data"
    }
   ],
   "source": [
    "plt.figure(figsize=(10,10))\n",
    "sns.heatmap(combined.corr(), annot=True, cmap='RdBu')"
   ]
  },
  {
   "cell_type": "markdown",
   "id": "6eb90a28",
   "metadata": {},
   "source": [
    "## Feature Engineering"
   ]
  },
  {
   "cell_type": "code",
   "execution_count": 47,
   "id": "70533488",
   "metadata": {},
   "outputs": [
    {
     "data": {
      "text/html": [
       "<div>\n",
       "<style scoped>\n",
       "    .dataframe tbody tr th:only-of-type {\n",
       "        vertical-align: middle;\n",
       "    }\n",
       "\n",
       "    .dataframe tbody tr th {\n",
       "        vertical-align: top;\n",
       "    }\n",
       "\n",
       "    .dataframe thead th {\n",
       "        text-align: right;\n",
       "    }\n",
       "</style>\n",
       "<table border=\"1\" class=\"dataframe\">\n",
       "  <thead>\n",
       "    <tr style=\"text-align: right;\">\n",
       "      <th></th>\n",
       "      <th>ID</th>\n",
       "      <th>AGE</th>\n",
       "      <th>GENDER</th>\n",
       "      <th>DRIVING_EXPERIENCE</th>\n",
       "      <th>EDUCATION</th>\n",
       "      <th>INCOME</th>\n",
       "      <th>CREDIT_SCORE</th>\n",
       "      <th>VEHICLE_OWNERSHIP</th>\n",
       "      <th>VEHICLE_YEAR</th>\n",
       "      <th>MARRIED</th>\n",
       "      <th>CHILDREN</th>\n",
       "      <th>POSTAL_CODE</th>\n",
       "      <th>ANNUAL_MILEAGE</th>\n",
       "      <th>SPEEDING_VIOLATIONS</th>\n",
       "      <th>DUIS</th>\n",
       "      <th>PAST_ACCIDENTS</th>\n",
       "      <th>OUTCOME</th>\n",
       "      <th>TYPE_OF_VEHICLE</th>\n",
       "    </tr>\n",
       "  </thead>\n",
       "  <tbody>\n",
       "    <tr>\n",
       "      <th>0</th>\n",
       "      <td>816393</td>\n",
       "      <td>40-64</td>\n",
       "      <td>female</td>\n",
       "      <td>20-29y</td>\n",
       "      <td>university</td>\n",
       "      <td>middle class</td>\n",
       "      <td>0.813754</td>\n",
       "      <td>0</td>\n",
       "      <td>after 2015</td>\n",
       "      <td>0</td>\n",
       "      <td>0</td>\n",
       "      <td>0.193597</td>\n",
       "      <td>885026.615898</td>\n",
       "      <td>0</td>\n",
       "      <td>0</td>\n",
       "      <td>0</td>\n",
       "      <td>0.0</td>\n",
       "      <td>Sports Car</td>\n",
       "    </tr>\n",
       "    <tr>\n",
       "      <th>1</th>\n",
       "      <td>251762</td>\n",
       "      <td>26-39</td>\n",
       "      <td>male</td>\n",
       "      <td>20-29y</td>\n",
       "      <td>high school</td>\n",
       "      <td>middle class</td>\n",
       "      <td>0.573912</td>\n",
       "      <td>1</td>\n",
       "      <td>before 2015</td>\n",
       "      <td>1</td>\n",
       "      <td>0</td>\n",
       "      <td>0.193597</td>\n",
       "      <td>652875.312817</td>\n",
       "      <td>0</td>\n",
       "      <td>0</td>\n",
       "      <td>0</td>\n",
       "      <td>1.0</td>\n",
       "      <td>HatchBack</td>\n",
       "    </tr>\n",
       "  </tbody>\n",
       "</table>\n",
       "</div>"
      ],
      "text/plain": [
       "       ID    AGE  GENDER DRIVING_EXPERIENCE    EDUCATION        INCOME  \\\n",
       "0  816393  40-64  female             20-29y   university  middle class   \n",
       "1  251762  26-39    male             20-29y  high school  middle class   \n",
       "\n",
       "   CREDIT_SCORE  VEHICLE_OWNERSHIP VEHICLE_YEAR  MARRIED  CHILDREN  \\\n",
       "0      0.813754                  0   after 2015        0         0   \n",
       "1      0.573912                  1  before 2015        1         0   \n",
       "\n",
       "   POSTAL_CODE  ANNUAL_MILEAGE  SPEEDING_VIOLATIONS  DUIS  PAST_ACCIDENTS  \\\n",
       "0     0.193597   885026.615898                    0     0               0   \n",
       "1     0.193597   652875.312817                    0     0               0   \n",
       "\n",
       "   OUTCOME TYPE_OF_VEHICLE  \n",
       "0      0.0      Sports Car  \n",
       "1      1.0       HatchBack  "
      ]
     },
     "execution_count": 47,
     "metadata": {},
     "output_type": "execute_result"
    }
   ],
   "source": [
    "combined.head(2)"
   ]
  },
  {
   "cell_type": "code",
   "execution_count": 48,
   "id": "1af77999",
   "metadata": {},
   "outputs": [],
   "source": [
    "# Total number of violations done by a person\n",
    "combined['TOT_DRIVING_VIOLATIONS'] = combined.SPEEDING_VIOLATIONS + combined.PAST_ACCIDENTS + combined.DUIS"
   ]
  },
  {
   "cell_type": "code",
   "execution_count": 49,
   "id": "6cca0b18",
   "metadata": {},
   "outputs": [],
   "source": [
    "# Mileage wise violations\n",
    "combined['VIOLATION_PER_MILEAGE'] = (combined['TOT_DRIVING_VIOLATIONS'])/combined['ANNUAL_MILEAGE']"
   ]
  },
  {
   "cell_type": "code",
   "execution_count": 50,
   "id": "f2015dc1",
   "metadata": {},
   "outputs": [
    {
     "data": {
      "text/html": [
       "<div>\n",
       "<style scoped>\n",
       "    .dataframe tbody tr th:only-of-type {\n",
       "        vertical-align: middle;\n",
       "    }\n",
       "\n",
       "    .dataframe tbody tr th {\n",
       "        vertical-align: top;\n",
       "    }\n",
       "\n",
       "    .dataframe thead th {\n",
       "        text-align: right;\n",
       "    }\n",
       "</style>\n",
       "<table border=\"1\" class=\"dataframe\">\n",
       "  <thead>\n",
       "    <tr style=\"text-align: right;\">\n",
       "      <th></th>\n",
       "      <th>ID</th>\n",
       "      <th>AGE</th>\n",
       "      <th>GENDER</th>\n",
       "      <th>DRIVING_EXPERIENCE</th>\n",
       "      <th>EDUCATION</th>\n",
       "      <th>INCOME</th>\n",
       "      <th>CREDIT_SCORE</th>\n",
       "      <th>VEHICLE_OWNERSHIP</th>\n",
       "      <th>VEHICLE_YEAR</th>\n",
       "      <th>MARRIED</th>\n",
       "      <th>CHILDREN</th>\n",
       "      <th>POSTAL_CODE</th>\n",
       "      <th>ANNUAL_MILEAGE</th>\n",
       "      <th>SPEEDING_VIOLATIONS</th>\n",
       "      <th>DUIS</th>\n",
       "      <th>PAST_ACCIDENTS</th>\n",
       "      <th>OUTCOME</th>\n",
       "      <th>TYPE_OF_VEHICLE</th>\n",
       "      <th>TOT_DRIVING_VIOLATIONS</th>\n",
       "      <th>VIOLATION_PER_MILEAGE</th>\n",
       "    </tr>\n",
       "  </thead>\n",
       "  <tbody>\n",
       "    <tr>\n",
       "      <th>0</th>\n",
       "      <td>816393</td>\n",
       "      <td>40-64</td>\n",
       "      <td>female</td>\n",
       "      <td>20-29y</td>\n",
       "      <td>university</td>\n",
       "      <td>middle class</td>\n",
       "      <td>0.813754</td>\n",
       "      <td>0</td>\n",
       "      <td>after 2015</td>\n",
       "      <td>0</td>\n",
       "      <td>0</td>\n",
       "      <td>0.193597</td>\n",
       "      <td>8.850266e+05</td>\n",
       "      <td>0</td>\n",
       "      <td>0</td>\n",
       "      <td>0</td>\n",
       "      <td>0.0</td>\n",
       "      <td>Sports Car</td>\n",
       "      <td>0</td>\n",
       "      <td>0.000000e+00</td>\n",
       "    </tr>\n",
       "    <tr>\n",
       "      <th>1</th>\n",
       "      <td>251762</td>\n",
       "      <td>26-39</td>\n",
       "      <td>male</td>\n",
       "      <td>20-29y</td>\n",
       "      <td>high school</td>\n",
       "      <td>middle class</td>\n",
       "      <td>0.573912</td>\n",
       "      <td>1</td>\n",
       "      <td>before 2015</td>\n",
       "      <td>1</td>\n",
       "      <td>0</td>\n",
       "      <td>0.193597</td>\n",
       "      <td>6.528753e+05</td>\n",
       "      <td>0</td>\n",
       "      <td>0</td>\n",
       "      <td>0</td>\n",
       "      <td>1.0</td>\n",
       "      <td>HatchBack</td>\n",
       "      <td>0</td>\n",
       "      <td>0.000000e+00</td>\n",
       "    </tr>\n",
       "    <tr>\n",
       "      <th>2</th>\n",
       "      <td>481952</td>\n",
       "      <td>40-64</td>\n",
       "      <td>male</td>\n",
       "      <td>20-29y</td>\n",
       "      <td>none</td>\n",
       "      <td>middle class</td>\n",
       "      <td>1.142449</td>\n",
       "      <td>1</td>\n",
       "      <td>before 2015</td>\n",
       "      <td>1</td>\n",
       "      <td>1</td>\n",
       "      <td>0.193597</td>\n",
       "      <td>1.009828e+06</td>\n",
       "      <td>0</td>\n",
       "      <td>0</td>\n",
       "      <td>0</td>\n",
       "      <td>1.0</td>\n",
       "      <td>Sedan</td>\n",
       "      <td>0</td>\n",
       "      <td>0.000000e+00</td>\n",
       "    </tr>\n",
       "    <tr>\n",
       "      <th>3</th>\n",
       "      <td>3506</td>\n",
       "      <td>40-64</td>\n",
       "      <td>male</td>\n",
       "      <td>20-29y</td>\n",
       "      <td>high school</td>\n",
       "      <td>upper class</td>\n",
       "      <td>0.883317</td>\n",
       "      <td>1</td>\n",
       "      <td>before 2015</td>\n",
       "      <td>0</td>\n",
       "      <td>1</td>\n",
       "      <td>0.193597</td>\n",
       "      <td>3.530795e+05</td>\n",
       "      <td>1</td>\n",
       "      <td>0</td>\n",
       "      <td>0</td>\n",
       "      <td>1.0</td>\n",
       "      <td>Sedan</td>\n",
       "      <td>1</td>\n",
       "      <td>2.832223e-06</td>\n",
       "    </tr>\n",
       "    <tr>\n",
       "      <th>4</th>\n",
       "      <td>498013</td>\n",
       "      <td>40-64</td>\n",
       "      <td>female</td>\n",
       "      <td>20-29y</td>\n",
       "      <td>none</td>\n",
       "      <td>working class</td>\n",
       "      <td>0.713767</td>\n",
       "      <td>1</td>\n",
       "      <td>after 2015</td>\n",
       "      <td>1</td>\n",
       "      <td>1</td>\n",
       "      <td>0.193597</td>\n",
       "      <td>1.416361e+06</td>\n",
       "      <td>0</td>\n",
       "      <td>0</td>\n",
       "      <td>1</td>\n",
       "      <td>0.0</td>\n",
       "      <td>Sedan</td>\n",
       "      <td>1</td>\n",
       "      <td>7.060349e-07</td>\n",
       "    </tr>\n",
       "  </tbody>\n",
       "</table>\n",
       "</div>"
      ],
      "text/plain": [
       "       ID    AGE  GENDER DRIVING_EXPERIENCE    EDUCATION         INCOME  \\\n",
       "0  816393  40-64  female             20-29y   university   middle class   \n",
       "1  251762  26-39    male             20-29y  high school   middle class   \n",
       "2  481952  40-64    male             20-29y         none   middle class   \n",
       "3    3506  40-64    male             20-29y  high school    upper class   \n",
       "4  498013  40-64  female             20-29y         none  working class   \n",
       "\n",
       "   CREDIT_SCORE  VEHICLE_OWNERSHIP VEHICLE_YEAR  MARRIED  CHILDREN  \\\n",
       "0      0.813754                  0   after 2015        0         0   \n",
       "1      0.573912                  1  before 2015        1         0   \n",
       "2      1.142449                  1  before 2015        1         1   \n",
       "3      0.883317                  1  before 2015        0         1   \n",
       "4      0.713767                  1   after 2015        1         1   \n",
       "\n",
       "   POSTAL_CODE  ANNUAL_MILEAGE  SPEEDING_VIOLATIONS  DUIS  PAST_ACCIDENTS  \\\n",
       "0     0.193597    8.850266e+05                    0     0               0   \n",
       "1     0.193597    6.528753e+05                    0     0               0   \n",
       "2     0.193597    1.009828e+06                    0     0               0   \n",
       "3     0.193597    3.530795e+05                    1     0               0   \n",
       "4     0.193597    1.416361e+06                    0     0               1   \n",
       "\n",
       "   OUTCOME TYPE_OF_VEHICLE  TOT_DRIVING_VIOLATIONS  VIOLATION_PER_MILEAGE  \n",
       "0      0.0      Sports Car                       0           0.000000e+00  \n",
       "1      1.0       HatchBack                       0           0.000000e+00  \n",
       "2      1.0           Sedan                       0           0.000000e+00  \n",
       "3      1.0           Sedan                       1           2.832223e-06  \n",
       "4      0.0           Sedan                       1           7.060349e-07  "
      ]
     },
     "execution_count": 50,
     "metadata": {},
     "output_type": "execute_result"
    }
   ],
   "source": [
    "combined.head()"
   ]
  },
  {
   "cell_type": "code",
   "execution_count": 51,
   "id": "580b0130",
   "metadata": {},
   "outputs": [
    {
     "data": {
      "text/plain": [
       "Ttest_indResult(statistic=0.2465589574516125, pvalue=0.8052501510328559)"
      ]
     },
     "execution_count": 51,
     "metadata": {},
     "output_type": "execute_result"
    }
   ],
   "source": [
    "zero=combined.loc[combined.OUTCOME==0,'TOT_DRIVING_VIOLATIONS']\n",
    "one=combined.loc[combined.OUTCOME==1,'TOT_DRIVING_VIOLATIONS']\n",
    "stats.ttest_ind(zero,one)"
   ]
  },
  {
   "cell_type": "code",
   "execution_count": 52,
   "id": "24c11196",
   "metadata": {
    "scrolled": true
   },
   "outputs": [
    {
     "data": {
      "text/html": [
       "<div>\n",
       "<style scoped>\n",
       "    .dataframe tbody tr th:only-of-type {\n",
       "        vertical-align: middle;\n",
       "    }\n",
       "\n",
       "    .dataframe tbody tr th {\n",
       "        vertical-align: top;\n",
       "    }\n",
       "\n",
       "    .dataframe thead th {\n",
       "        text-align: right;\n",
       "    }\n",
       "</style>\n",
       "<table border=\"1\" class=\"dataframe\">\n",
       "  <thead>\n",
       "    <tr style=\"text-align: right;\">\n",
       "      <th></th>\n",
       "      <th>0</th>\n",
       "      <th>1</th>\n",
       "    </tr>\n",
       "  </thead>\n",
       "  <tbody>\n",
       "    <tr>\n",
       "      <th>0</th>\n",
       "      <td>20-29</td>\n",
       "      <td></td>\n",
       "    </tr>\n",
       "    <tr>\n",
       "      <th>1</th>\n",
       "      <td>20-29</td>\n",
       "      <td></td>\n",
       "    </tr>\n",
       "    <tr>\n",
       "      <th>2</th>\n",
       "      <td>20-29</td>\n",
       "      <td></td>\n",
       "    </tr>\n",
       "    <tr>\n",
       "      <th>3</th>\n",
       "      <td>20-29</td>\n",
       "      <td></td>\n",
       "    </tr>\n",
       "    <tr>\n",
       "      <th>4</th>\n",
       "      <td>20-29</td>\n",
       "      <td></td>\n",
       "    </tr>\n",
       "    <tr>\n",
       "      <th>...</th>\n",
       "      <td>...</td>\n",
       "      <td>...</td>\n",
       "    </tr>\n",
       "    <tr>\n",
       "      <th>104995</th>\n",
       "      <td>0-9</td>\n",
       "      <td></td>\n",
       "    </tr>\n",
       "    <tr>\n",
       "      <th>104996</th>\n",
       "      <td>0-9</td>\n",
       "      <td></td>\n",
       "    </tr>\n",
       "    <tr>\n",
       "      <th>104997</th>\n",
       "      <td>10-19</td>\n",
       "      <td></td>\n",
       "    </tr>\n",
       "    <tr>\n",
       "      <th>104998</th>\n",
       "      <td>20-29</td>\n",
       "      <td></td>\n",
       "    </tr>\n",
       "    <tr>\n",
       "      <th>104999</th>\n",
       "      <td>20-29</td>\n",
       "      <td></td>\n",
       "    </tr>\n",
       "  </tbody>\n",
       "</table>\n",
       "<p>105000 rows × 2 columns</p>\n",
       "</div>"
      ],
      "text/plain": [
       "            0 1 \n",
       "0       20-29   \n",
       "1       20-29   \n",
       "2       20-29   \n",
       "3       20-29   \n",
       "4       20-29   \n",
       "...       ... ..\n",
       "104995    0-9   \n",
       "104996    0-9   \n",
       "104997  10-19   \n",
       "104998  20-29   \n",
       "104999  20-29   \n",
       "\n",
       "[105000 rows x 2 columns]"
      ]
     },
     "execution_count": 52,
     "metadata": {},
     "output_type": "execute_result"
    }
   ],
   "source": [
    "combined.DRIVING_EXPERIENCE.str.split('y',expand=True)"
   ]
  },
  {
   "cell_type": "code",
   "execution_count": 53,
   "id": "466f748e",
   "metadata": {
    "scrolled": true
   },
   "outputs": [
    {
     "data": {
      "text/html": [
       "<div>\n",
       "<style scoped>\n",
       "    .dataframe tbody tr th:only-of-type {\n",
       "        vertical-align: middle;\n",
       "    }\n",
       "\n",
       "    .dataframe tbody tr th {\n",
       "        vertical-align: top;\n",
       "    }\n",
       "\n",
       "    .dataframe thead th {\n",
       "        text-align: right;\n",
       "    }\n",
       "</style>\n",
       "<table border=\"1\" class=\"dataframe\">\n",
       "  <thead>\n",
       "    <tr style=\"text-align: right;\">\n",
       "      <th></th>\n",
       "      <th>0</th>\n",
       "      <th>1</th>\n",
       "    </tr>\n",
       "  </thead>\n",
       "  <tbody>\n",
       "    <tr>\n",
       "      <th>0</th>\n",
       "      <td>after 2015</td>\n",
       "      <td>None</td>\n",
       "    </tr>\n",
       "    <tr>\n",
       "      <th>1</th>\n",
       "      <td></td>\n",
       "      <td>2015</td>\n",
       "    </tr>\n",
       "    <tr>\n",
       "      <th>2</th>\n",
       "      <td></td>\n",
       "      <td>2015</td>\n",
       "    </tr>\n",
       "    <tr>\n",
       "      <th>3</th>\n",
       "      <td></td>\n",
       "      <td>2015</td>\n",
       "    </tr>\n",
       "    <tr>\n",
       "      <th>4</th>\n",
       "      <td>after 2015</td>\n",
       "      <td>None</td>\n",
       "    </tr>\n",
       "    <tr>\n",
       "      <th>...</th>\n",
       "      <td>...</td>\n",
       "      <td>...</td>\n",
       "    </tr>\n",
       "    <tr>\n",
       "      <th>104995</th>\n",
       "      <td></td>\n",
       "      <td>2015</td>\n",
       "    </tr>\n",
       "    <tr>\n",
       "      <th>104996</th>\n",
       "      <td>after 2015</td>\n",
       "      <td>None</td>\n",
       "    </tr>\n",
       "    <tr>\n",
       "      <th>104997</th>\n",
       "      <td>after 2015</td>\n",
       "      <td>None</td>\n",
       "    </tr>\n",
       "    <tr>\n",
       "      <th>104998</th>\n",
       "      <td></td>\n",
       "      <td>2015</td>\n",
       "    </tr>\n",
       "    <tr>\n",
       "      <th>104999</th>\n",
       "      <td>after 2015</td>\n",
       "      <td>None</td>\n",
       "    </tr>\n",
       "  </tbody>\n",
       "</table>\n",
       "<p>105000 rows × 2 columns</p>\n",
       "</div>"
      ],
      "text/plain": [
       "                 0      1\n",
       "0       after 2015   None\n",
       "1                    2015\n",
       "2                    2015\n",
       "3                    2015\n",
       "4       after 2015   None\n",
       "...            ...    ...\n",
       "104995               2015\n",
       "104996  after 2015   None\n",
       "104997  after 2015   None\n",
       "104998               2015\n",
       "104999  after 2015   None\n",
       "\n",
       "[105000 rows x 2 columns]"
      ]
     },
     "execution_count": 53,
     "metadata": {},
     "output_type": "execute_result"
    }
   ],
   "source": [
    "combined.VEHICLE_YEAR.str.split('before',expand=True)"
   ]
  },
  {
   "cell_type": "code",
   "execution_count": 54,
   "id": "0e029237",
   "metadata": {
    "scrolled": true
   },
   "outputs": [
    {
     "data": {
      "text/html": [
       "<div>\n",
       "<style scoped>\n",
       "    .dataframe tbody tr th:only-of-type {\n",
       "        vertical-align: middle;\n",
       "    }\n",
       "\n",
       "    .dataframe tbody tr th {\n",
       "        vertical-align: top;\n",
       "    }\n",
       "\n",
       "    .dataframe thead th {\n",
       "        text-align: right;\n",
       "    }\n",
       "</style>\n",
       "<table border=\"1\" class=\"dataframe\">\n",
       "  <thead>\n",
       "    <tr style=\"text-align: right;\">\n",
       "      <th></th>\n",
       "      <th>0</th>\n",
       "      <th>1</th>\n",
       "    </tr>\n",
       "  </thead>\n",
       "  <tbody>\n",
       "    <tr>\n",
       "      <th>0</th>\n",
       "      <td></td>\n",
       "      <td>2015</td>\n",
       "    </tr>\n",
       "    <tr>\n",
       "      <th>1</th>\n",
       "      <td>before 2015</td>\n",
       "      <td>None</td>\n",
       "    </tr>\n",
       "    <tr>\n",
       "      <th>2</th>\n",
       "      <td>before 2015</td>\n",
       "      <td>None</td>\n",
       "    </tr>\n",
       "    <tr>\n",
       "      <th>3</th>\n",
       "      <td>before 2015</td>\n",
       "      <td>None</td>\n",
       "    </tr>\n",
       "    <tr>\n",
       "      <th>4</th>\n",
       "      <td></td>\n",
       "      <td>2015</td>\n",
       "    </tr>\n",
       "    <tr>\n",
       "      <th>...</th>\n",
       "      <td>...</td>\n",
       "      <td>...</td>\n",
       "    </tr>\n",
       "    <tr>\n",
       "      <th>104995</th>\n",
       "      <td>before 2015</td>\n",
       "      <td>None</td>\n",
       "    </tr>\n",
       "    <tr>\n",
       "      <th>104996</th>\n",
       "      <td></td>\n",
       "      <td>2015</td>\n",
       "    </tr>\n",
       "    <tr>\n",
       "      <th>104997</th>\n",
       "      <td></td>\n",
       "      <td>2015</td>\n",
       "    </tr>\n",
       "    <tr>\n",
       "      <th>104998</th>\n",
       "      <td>before 2015</td>\n",
       "      <td>None</td>\n",
       "    </tr>\n",
       "    <tr>\n",
       "      <th>104999</th>\n",
       "      <td></td>\n",
       "      <td>2015</td>\n",
       "    </tr>\n",
       "  </tbody>\n",
       "</table>\n",
       "<p>105000 rows × 2 columns</p>\n",
       "</div>"
      ],
      "text/plain": [
       "                  0      1\n",
       "0                     2015\n",
       "1       before 2015   None\n",
       "2       before 2015   None\n",
       "3       before 2015   None\n",
       "4                     2015\n",
       "...             ...    ...\n",
       "104995  before 2015   None\n",
       "104996                2015\n",
       "104997                2015\n",
       "104998  before 2015   None\n",
       "104999                2015\n",
       "\n",
       "[105000 rows x 2 columns]"
      ]
     },
     "execution_count": 54,
     "metadata": {},
     "output_type": "execute_result"
    }
   ],
   "source": [
    "combined.VEHICLE_YEAR.str.split('after',expand=True)"
   ]
  },
  {
   "cell_type": "code",
   "execution_count": 55,
   "id": "6b5ebd95",
   "metadata": {},
   "outputs": [
    {
     "data": {
      "text/plain": [
       "918746.5664510328"
      ]
     },
     "execution_count": 55,
     "metadata": {},
     "output_type": "execute_result"
    }
   ],
   "source": [
    "combined.ANNUAL_MILEAGE.mean()"
   ]
  },
  {
   "cell_type": "code",
   "execution_count": 56,
   "id": "7b17df5e",
   "metadata": {},
   "outputs": [
    {
     "data": {
      "text/plain": [
       "2358980.456400292"
      ]
     },
     "execution_count": 56,
     "metadata": {},
     "output_type": "execute_result"
    }
   ],
   "source": [
    "combined.ANNUAL_MILEAGE.max()"
   ]
  },
  {
   "cell_type": "code",
   "execution_count": 57,
   "id": "1039b665",
   "metadata": {},
   "outputs": [
    {
     "data": {
      "text/plain": [
       "array([0.81375406, 0.57391177, 1.14244859, ..., 0.55454175, 0.58497566,\n",
       "       0.56402307])"
      ]
     },
     "execution_count": 57,
     "metadata": {},
     "output_type": "execute_result"
    }
   ],
   "source": [
    "combined.CREDIT_SCORE.unique()"
   ]
  },
  {
   "cell_type": "code",
   "execution_count": 58,
   "id": "722ac83e",
   "metadata": {},
   "outputs": [
    {
     "data": {
      "text/html": [
       "<div>\n",
       "<style scoped>\n",
       "    .dataframe tbody tr th:only-of-type {\n",
       "        vertical-align: middle;\n",
       "    }\n",
       "\n",
       "    .dataframe tbody tr th {\n",
       "        vertical-align: top;\n",
       "    }\n",
       "\n",
       "    .dataframe thead th {\n",
       "        text-align: right;\n",
       "    }\n",
       "</style>\n",
       "<table border=\"1\" class=\"dataframe\">\n",
       "  <thead>\n",
       "    <tr style=\"text-align: right;\">\n",
       "      <th></th>\n",
       "      <th>ID</th>\n",
       "      <th>AGE</th>\n",
       "      <th>GENDER</th>\n",
       "      <th>DRIVING_EXPERIENCE</th>\n",
       "      <th>EDUCATION</th>\n",
       "      <th>INCOME</th>\n",
       "      <th>CREDIT_SCORE</th>\n",
       "      <th>VEHICLE_OWNERSHIP</th>\n",
       "      <th>VEHICLE_YEAR</th>\n",
       "      <th>MARRIED</th>\n",
       "      <th>CHILDREN</th>\n",
       "      <th>POSTAL_CODE</th>\n",
       "      <th>ANNUAL_MILEAGE</th>\n",
       "      <th>SPEEDING_VIOLATIONS</th>\n",
       "      <th>DUIS</th>\n",
       "      <th>PAST_ACCIDENTS</th>\n",
       "      <th>OUTCOME</th>\n",
       "      <th>TYPE_OF_VEHICLE</th>\n",
       "      <th>TOT_DRIVING_VIOLATIONS</th>\n",
       "      <th>VIOLATION_PER_MILEAGE</th>\n",
       "    </tr>\n",
       "  </thead>\n",
       "  <tbody>\n",
       "    <tr>\n",
       "      <th>0</th>\n",
       "      <td>816393</td>\n",
       "      <td>40-64</td>\n",
       "      <td>female</td>\n",
       "      <td>20-29y</td>\n",
       "      <td>university</td>\n",
       "      <td>middle class</td>\n",
       "      <td>0.813754</td>\n",
       "      <td>0</td>\n",
       "      <td>after 2015</td>\n",
       "      <td>0</td>\n",
       "      <td>0</td>\n",
       "      <td>0.193597</td>\n",
       "      <td>885026.615898</td>\n",
       "      <td>0</td>\n",
       "      <td>0</td>\n",
       "      <td>0</td>\n",
       "      <td>0.0</td>\n",
       "      <td>Sports Car</td>\n",
       "      <td>0</td>\n",
       "      <td>0.0</td>\n",
       "    </tr>\n",
       "    <tr>\n",
       "      <th>1</th>\n",
       "      <td>251762</td>\n",
       "      <td>26-39</td>\n",
       "      <td>male</td>\n",
       "      <td>20-29y</td>\n",
       "      <td>high school</td>\n",
       "      <td>middle class</td>\n",
       "      <td>0.573912</td>\n",
       "      <td>1</td>\n",
       "      <td>before 2015</td>\n",
       "      <td>1</td>\n",
       "      <td>0</td>\n",
       "      <td>0.193597</td>\n",
       "      <td>652875.312817</td>\n",
       "      <td>0</td>\n",
       "      <td>0</td>\n",
       "      <td>0</td>\n",
       "      <td>1.0</td>\n",
       "      <td>HatchBack</td>\n",
       "      <td>0</td>\n",
       "      <td>0.0</td>\n",
       "    </tr>\n",
       "  </tbody>\n",
       "</table>\n",
       "</div>"
      ],
      "text/plain": [
       "       ID    AGE  GENDER DRIVING_EXPERIENCE    EDUCATION        INCOME  \\\n",
       "0  816393  40-64  female             20-29y   university  middle class   \n",
       "1  251762  26-39    male             20-29y  high school  middle class   \n",
       "\n",
       "   CREDIT_SCORE  VEHICLE_OWNERSHIP VEHICLE_YEAR  MARRIED  CHILDREN  \\\n",
       "0      0.813754                  0   after 2015        0         0   \n",
       "1      0.573912                  1  before 2015        1         0   \n",
       "\n",
       "   POSTAL_CODE  ANNUAL_MILEAGE  SPEEDING_VIOLATIONS  DUIS  PAST_ACCIDENTS  \\\n",
       "0     0.193597   885026.615898                    0     0               0   \n",
       "1     0.193597   652875.312817                    0     0               0   \n",
       "\n",
       "   OUTCOME TYPE_OF_VEHICLE  TOT_DRIVING_VIOLATIONS  VIOLATION_PER_MILEAGE  \n",
       "0      0.0      Sports Car                       0                    0.0  \n",
       "1      1.0       HatchBack                       0                    0.0  "
      ]
     },
     "execution_count": 58,
     "metadata": {},
     "output_type": "execute_result"
    }
   ],
   "source": [
    "combined.head(2)"
   ]
  },
  {
   "cell_type": "code",
   "execution_count": 59,
   "id": "19e8e694",
   "metadata": {},
   "outputs": [
    {
     "data": {
      "text/plain": [
       "array(['after 2015', 'before 2015'], dtype=object)"
      ]
     },
     "execution_count": 59,
     "metadata": {},
     "output_type": "execute_result"
    }
   ],
   "source": [
    "combined.VEHICLE_YEAR.unique()"
   ]
  },
  {
   "cell_type": "code",
   "execution_count": 60,
   "id": "2d7fcf29",
   "metadata": {},
   "outputs": [],
   "source": [
    "combined.VEHICLE_YEAR = np.where(combined.VEHICLE_YEAR=='after 2015',1,0)"
   ]
  },
  {
   "cell_type": "code",
   "execution_count": 61,
   "id": "914b3981",
   "metadata": {},
   "outputs": [
    {
     "data": {
      "text/html": [
       "<div>\n",
       "<style scoped>\n",
       "    .dataframe tbody tr th:only-of-type {\n",
       "        vertical-align: middle;\n",
       "    }\n",
       "\n",
       "    .dataframe tbody tr th {\n",
       "        vertical-align: top;\n",
       "    }\n",
       "\n",
       "    .dataframe thead th {\n",
       "        text-align: right;\n",
       "    }\n",
       "</style>\n",
       "<table border=\"1\" class=\"dataframe\">\n",
       "  <thead>\n",
       "    <tr style=\"text-align: right;\">\n",
       "      <th></th>\n",
       "      <th>ID</th>\n",
       "      <th>AGE</th>\n",
       "      <th>GENDER</th>\n",
       "      <th>DRIVING_EXPERIENCE</th>\n",
       "      <th>EDUCATION</th>\n",
       "      <th>INCOME</th>\n",
       "      <th>CREDIT_SCORE</th>\n",
       "      <th>VEHICLE_OWNERSHIP</th>\n",
       "      <th>VEHICLE_YEAR</th>\n",
       "      <th>MARRIED</th>\n",
       "      <th>CHILDREN</th>\n",
       "      <th>POSTAL_CODE</th>\n",
       "      <th>ANNUAL_MILEAGE</th>\n",
       "      <th>SPEEDING_VIOLATIONS</th>\n",
       "      <th>DUIS</th>\n",
       "      <th>PAST_ACCIDENTS</th>\n",
       "      <th>OUTCOME</th>\n",
       "      <th>TYPE_OF_VEHICLE</th>\n",
       "      <th>TOT_DRIVING_VIOLATIONS</th>\n",
       "      <th>VIOLATION_PER_MILEAGE</th>\n",
       "    </tr>\n",
       "  </thead>\n",
       "  <tbody>\n",
       "    <tr>\n",
       "      <th>0</th>\n",
       "      <td>816393</td>\n",
       "      <td>40-64</td>\n",
       "      <td>female</td>\n",
       "      <td>20-29y</td>\n",
       "      <td>university</td>\n",
       "      <td>middle class</td>\n",
       "      <td>0.813754</td>\n",
       "      <td>0</td>\n",
       "      <td>1</td>\n",
       "      <td>0</td>\n",
       "      <td>0</td>\n",
       "      <td>0.193597</td>\n",
       "      <td>885026.615898</td>\n",
       "      <td>0</td>\n",
       "      <td>0</td>\n",
       "      <td>0</td>\n",
       "      <td>0.0</td>\n",
       "      <td>Sports Car</td>\n",
       "      <td>0</td>\n",
       "      <td>0.0</td>\n",
       "    </tr>\n",
       "  </tbody>\n",
       "</table>\n",
       "</div>"
      ],
      "text/plain": [
       "       ID    AGE  GENDER DRIVING_EXPERIENCE   EDUCATION        INCOME  \\\n",
       "0  816393  40-64  female             20-29y  university  middle class   \n",
       "\n",
       "   CREDIT_SCORE  VEHICLE_OWNERSHIP  VEHICLE_YEAR  MARRIED  CHILDREN  \\\n",
       "0      0.813754                  0             1        0         0   \n",
       "\n",
       "   POSTAL_CODE  ANNUAL_MILEAGE  SPEEDING_VIOLATIONS  DUIS  PAST_ACCIDENTS  \\\n",
       "0     0.193597   885026.615898                    0     0               0   \n",
       "\n",
       "   OUTCOME TYPE_OF_VEHICLE  TOT_DRIVING_VIOLATIONS  VIOLATION_PER_MILEAGE  \n",
       "0      0.0      Sports Car                       0                    0.0  "
      ]
     },
     "execution_count": 61,
     "metadata": {},
     "output_type": "execute_result"
    }
   ],
   "source": [
    "combined.head(1)"
   ]
  },
  {
   "cell_type": "code",
   "execution_count": 62,
   "id": "3299f0c1",
   "metadata": {},
   "outputs": [
    {
     "data": {
      "text/plain": [
       "array(['20-29y', '30y+', '0-9y', '10-19y'], dtype=object)"
      ]
     },
     "execution_count": 62,
     "metadata": {},
     "output_type": "execute_result"
    }
   ],
   "source": [
    "combined.DRIVING_EXPERIENCE.unique()"
   ]
  },
  {
   "cell_type": "code",
   "execution_count": 63,
   "id": "a894bb56",
   "metadata": {},
   "outputs": [
    {
     "data": {
      "text/html": [
       "<div>\n",
       "<style scoped>\n",
       "    .dataframe tbody tr th:only-of-type {\n",
       "        vertical-align: middle;\n",
       "    }\n",
       "\n",
       "    .dataframe tbody tr th {\n",
       "        vertical-align: top;\n",
       "    }\n",
       "\n",
       "    .dataframe thead th {\n",
       "        text-align: right;\n",
       "    }\n",
       "</style>\n",
       "<table border=\"1\" class=\"dataframe\">\n",
       "  <thead>\n",
       "    <tr style=\"text-align: right;\">\n",
       "      <th></th>\n",
       "      <th>0</th>\n",
       "      <th>1</th>\n",
       "    </tr>\n",
       "  </thead>\n",
       "  <tbody>\n",
       "    <tr>\n",
       "      <th>0</th>\n",
       "      <td>20-29</td>\n",
       "      <td></td>\n",
       "    </tr>\n",
       "    <tr>\n",
       "      <th>1</th>\n",
       "      <td>20-29</td>\n",
       "      <td></td>\n",
       "    </tr>\n",
       "    <tr>\n",
       "      <th>2</th>\n",
       "      <td>20-29</td>\n",
       "      <td></td>\n",
       "    </tr>\n",
       "    <tr>\n",
       "      <th>3</th>\n",
       "      <td>20-29</td>\n",
       "      <td></td>\n",
       "    </tr>\n",
       "    <tr>\n",
       "      <th>4</th>\n",
       "      <td>20-29</td>\n",
       "      <td></td>\n",
       "    </tr>\n",
       "    <tr>\n",
       "      <th>...</th>\n",
       "      <td>...</td>\n",
       "      <td>...</td>\n",
       "    </tr>\n",
       "    <tr>\n",
       "      <th>104995</th>\n",
       "      <td>0-9</td>\n",
       "      <td></td>\n",
       "    </tr>\n",
       "    <tr>\n",
       "      <th>104996</th>\n",
       "      <td>0-9</td>\n",
       "      <td></td>\n",
       "    </tr>\n",
       "    <tr>\n",
       "      <th>104997</th>\n",
       "      <td>10-19</td>\n",
       "      <td></td>\n",
       "    </tr>\n",
       "    <tr>\n",
       "      <th>104998</th>\n",
       "      <td>20-29</td>\n",
       "      <td></td>\n",
       "    </tr>\n",
       "    <tr>\n",
       "      <th>104999</th>\n",
       "      <td>20-29</td>\n",
       "      <td></td>\n",
       "    </tr>\n",
       "  </tbody>\n",
       "</table>\n",
       "<p>105000 rows × 2 columns</p>\n",
       "</div>"
      ],
      "text/plain": [
       "            0 1 \n",
       "0       20-29   \n",
       "1       20-29   \n",
       "2       20-29   \n",
       "3       20-29   \n",
       "4       20-29   \n",
       "...       ... ..\n",
       "104995    0-9   \n",
       "104996    0-9   \n",
       "104997  10-19   \n",
       "104998  20-29   \n",
       "104999  20-29   \n",
       "\n",
       "[105000 rows x 2 columns]"
      ]
     },
     "execution_count": 63,
     "metadata": {},
     "output_type": "execute_result"
    }
   ],
   "source": [
    "combined.DRIVING_EXPERIENCE.str.split('y',expand=True)"
   ]
  },
  {
   "cell_type": "code",
   "execution_count": 64,
   "id": "7558809e",
   "metadata": {},
   "outputs": [],
   "source": [
    "#np.where(combined.DRIVING_EXPERIENCE==['0-9y'],'less_exp','more_exp')"
   ]
  },
  {
   "cell_type": "code",
   "execution_count": 65,
   "id": "0ec79d52",
   "metadata": {},
   "outputs": [],
   "source": [
    "#def drive(x):\n",
    " #   for i in combined.DRIVING_EXPERIENCE:"
   ]
  },
  {
   "cell_type": "markdown",
   "id": "50833574",
   "metadata": {},
   "source": [
    "## Encoding"
   ]
  },
  {
   "cell_type": "code",
   "execution_count": 66,
   "id": "2f8ee873",
   "metadata": {},
   "outputs": [],
   "source": [
    "# Now, lets make dummies of the remaining columns\n",
    "combined = pd.get_dummies(combined, drop_first=True)"
   ]
  },
  {
   "cell_type": "code",
   "execution_count": 67,
   "id": "39dfaefd",
   "metadata": {},
   "outputs": [
    {
     "data": {
      "text/html": [
       "<div>\n",
       "<style scoped>\n",
       "    .dataframe tbody tr th:only-of-type {\n",
       "        vertical-align: middle;\n",
       "    }\n",
       "\n",
       "    .dataframe tbody tr th {\n",
       "        vertical-align: top;\n",
       "    }\n",
       "\n",
       "    .dataframe thead th {\n",
       "        text-align: right;\n",
       "    }\n",
       "</style>\n",
       "<table border=\"1\" class=\"dataframe\">\n",
       "  <thead>\n",
       "    <tr style=\"text-align: right;\">\n",
       "      <th></th>\n",
       "      <th>ID</th>\n",
       "      <th>CREDIT_SCORE</th>\n",
       "      <th>VEHICLE_OWNERSHIP</th>\n",
       "      <th>VEHICLE_YEAR</th>\n",
       "      <th>MARRIED</th>\n",
       "      <th>CHILDREN</th>\n",
       "      <th>POSTAL_CODE</th>\n",
       "      <th>ANNUAL_MILEAGE</th>\n",
       "      <th>SPEEDING_VIOLATIONS</th>\n",
       "      <th>DUIS</th>\n",
       "      <th>PAST_ACCIDENTS</th>\n",
       "      <th>OUTCOME</th>\n",
       "      <th>TOT_DRIVING_VIOLATIONS</th>\n",
       "      <th>VIOLATION_PER_MILEAGE</th>\n",
       "      <th>AGE_26-39</th>\n",
       "      <th>AGE_40-64</th>\n",
       "      <th>AGE_65+</th>\n",
       "      <th>GENDER_male</th>\n",
       "      <th>DRIVING_EXPERIENCE_10-19y</th>\n",
       "      <th>DRIVING_EXPERIENCE_20-29y</th>\n",
       "      <th>DRIVING_EXPERIENCE_30y+</th>\n",
       "      <th>EDUCATION_none</th>\n",
       "      <th>EDUCATION_university</th>\n",
       "      <th>INCOME_poverty</th>\n",
       "      <th>INCOME_upper class</th>\n",
       "      <th>INCOME_working class</th>\n",
       "      <th>TYPE_OF_VEHICLE_SUV</th>\n",
       "      <th>TYPE_OF_VEHICLE_Sedan</th>\n",
       "      <th>TYPE_OF_VEHICLE_Sports Car</th>\n",
       "    </tr>\n",
       "  </thead>\n",
       "  <tbody>\n",
       "    <tr>\n",
       "      <th>0</th>\n",
       "      <td>816393</td>\n",
       "      <td>0.813754</td>\n",
       "      <td>0</td>\n",
       "      <td>1</td>\n",
       "      <td>0</td>\n",
       "      <td>0</td>\n",
       "      <td>0.193597</td>\n",
       "      <td>885026.615898</td>\n",
       "      <td>0</td>\n",
       "      <td>0</td>\n",
       "      <td>0</td>\n",
       "      <td>0.0</td>\n",
       "      <td>0</td>\n",
       "      <td>0.0</td>\n",
       "      <td>0</td>\n",
       "      <td>1</td>\n",
       "      <td>0</td>\n",
       "      <td>0</td>\n",
       "      <td>0</td>\n",
       "      <td>1</td>\n",
       "      <td>0</td>\n",
       "      <td>0</td>\n",
       "      <td>1</td>\n",
       "      <td>0</td>\n",
       "      <td>0</td>\n",
       "      <td>0</td>\n",
       "      <td>0</td>\n",
       "      <td>0</td>\n",
       "      <td>1</td>\n",
       "    </tr>\n",
       "    <tr>\n",
       "      <th>1</th>\n",
       "      <td>251762</td>\n",
       "      <td>0.573912</td>\n",
       "      <td>1</td>\n",
       "      <td>0</td>\n",
       "      <td>1</td>\n",
       "      <td>0</td>\n",
       "      <td>0.193597</td>\n",
       "      <td>652875.312817</td>\n",
       "      <td>0</td>\n",
       "      <td>0</td>\n",
       "      <td>0</td>\n",
       "      <td>1.0</td>\n",
       "      <td>0</td>\n",
       "      <td>0.0</td>\n",
       "      <td>1</td>\n",
       "      <td>0</td>\n",
       "      <td>0</td>\n",
       "      <td>1</td>\n",
       "      <td>0</td>\n",
       "      <td>1</td>\n",
       "      <td>0</td>\n",
       "      <td>0</td>\n",
       "      <td>0</td>\n",
       "      <td>0</td>\n",
       "      <td>0</td>\n",
       "      <td>0</td>\n",
       "      <td>0</td>\n",
       "      <td>0</td>\n",
       "      <td>0</td>\n",
       "    </tr>\n",
       "  </tbody>\n",
       "</table>\n",
       "</div>"
      ],
      "text/plain": [
       "       ID  CREDIT_SCORE  VEHICLE_OWNERSHIP  VEHICLE_YEAR  MARRIED  CHILDREN  \\\n",
       "0  816393      0.813754                  0             1        0         0   \n",
       "1  251762      0.573912                  1             0        1         0   \n",
       "\n",
       "   POSTAL_CODE  ANNUAL_MILEAGE  SPEEDING_VIOLATIONS  DUIS  PAST_ACCIDENTS  \\\n",
       "0     0.193597   885026.615898                    0     0               0   \n",
       "1     0.193597   652875.312817                    0     0               0   \n",
       "\n",
       "   OUTCOME  TOT_DRIVING_VIOLATIONS  VIOLATION_PER_MILEAGE  AGE_26-39  \\\n",
       "0      0.0                       0                    0.0          0   \n",
       "1      1.0                       0                    0.0          1   \n",
       "\n",
       "   AGE_40-64  AGE_65+  GENDER_male  DRIVING_EXPERIENCE_10-19y  \\\n",
       "0          1        0            0                          0   \n",
       "1          0        0            1                          0   \n",
       "\n",
       "   DRIVING_EXPERIENCE_20-29y  DRIVING_EXPERIENCE_30y+  EDUCATION_none  \\\n",
       "0                          1                        0               0   \n",
       "1                          1                        0               0   \n",
       "\n",
       "   EDUCATION_university  INCOME_poverty  INCOME_upper class  \\\n",
       "0                     1               0                   0   \n",
       "1                     0               0                   0   \n",
       "\n",
       "   INCOME_working class  TYPE_OF_VEHICLE_SUV  TYPE_OF_VEHICLE_Sedan  \\\n",
       "0                     0                    0                      0   \n",
       "1                     0                    0                      0   \n",
       "\n",
       "   TYPE_OF_VEHICLE_Sports Car  \n",
       "0                           1  \n",
       "1                           0  "
      ]
     },
     "execution_count": 67,
     "metadata": {},
     "output_type": "execute_result"
    }
   ],
   "source": [
    "combined.head(2)"
   ]
  },
  {
   "cell_type": "markdown",
   "id": "5135c0aa",
   "metadata": {},
   "source": [
    "## Train Test Split"
   ]
  },
  {
   "cell_type": "code",
   "execution_count": 68,
   "id": "e7365aeb",
   "metadata": {},
   "outputs": [],
   "source": [
    "# splitting the data in newtrain,newtest\n",
    "\n",
    "newtrain = combined.loc[0:train.shape[0]-1,]\n",
    "newtest = combined.loc[train.shape[0]:, ]"
   ]
  },
  {
   "cell_type": "code",
   "execution_count": 69,
   "id": "f1d20841",
   "metadata": {},
   "outputs": [
    {
     "data": {
      "text/plain": [
       "((87285, 18), (87285, 29), (17715, 29), (17715, 17))"
      ]
     },
     "execution_count": 69,
     "metadata": {},
     "output_type": "execute_result"
    }
   ],
   "source": [
    "# shape of the train,newtrain,newtest,test\n",
    "\n",
    "train.shape, newtrain.shape, newtest.shape, test.shape"
   ]
  },
  {
   "cell_type": "code",
   "execution_count": 70,
   "id": "e8bfac3e",
   "metadata": {},
   "outputs": [],
   "source": [
    "# drop the target variable from train test\n",
    "\n",
    "X = newtrain.drop(\"OUTCOME\",axis=1)\n",
    "newtest = newtest.drop(\"OUTCOME\",axis=1)\n",
    "\n",
    "y = newtrain.OUTCOME"
   ]
  },
  {
   "cell_type": "markdown",
   "id": "eb217e4f",
   "metadata": {},
   "source": [
    "## Scaling"
   ]
  },
  {
   "cell_type": "code",
   "execution_count": 71,
   "id": "6729d7b4",
   "metadata": {},
   "outputs": [],
   "source": [
    "# lets do scaling on numerical columns\n",
    "scale_cols = [\"CREDIT_SCORE\",\"POSTAL_CODE\",\"ANNUAL_MILEAGE\",\"VIOLATION_PER_MILEAGE\",\"SPEEDING_VIOLATIONS\",\n",
    "       \"DUIS\",\"PAST_ACCIDENTS\",\"TOT_DRIVING_VIOLATIONS\"]\n",
    "\n",
    "from sklearn.preprocessing import StandardScaler\n",
    "\n",
    "sc = StandardScaler()\n",
    "\n",
    "for i in scale_cols:\n",
    "    newtrain.loc[:,i] = sc.fit_transform(pd.DataFrame(newtrain.loc[:,i]))\n",
    "    newtest.loc[:,i] = sc.transform(pd.DataFrame(newtest.loc[:,i]))"
   ]
  },
  {
   "cell_type": "code",
   "execution_count": 77,
   "id": "46bdaa71",
   "metadata": {},
   "outputs": [],
   "source": [
    "from sklearn.model_selection import train_test_split\n",
    "from imblearn.over_sampling import SMOTE\n",
    "smote=SMOTE()"
   ]
  },
  {
   "cell_type": "markdown",
   "id": "aa822c84",
   "metadata": {},
   "source": [
    "## Resampling using SMOTE"
   ]
  },
  {
   "cell_type": "code",
   "execution_count": 78,
   "id": "67cc4af6",
   "metadata": {},
   "outputs": [],
   "source": [
    "# Resmaple the data using smote\n",
    "\n",
    "smotex,smotey=smote.fit_resample(X,y)"
   ]
  },
  {
   "cell_type": "code",
   "execution_count": 79,
   "id": "294df17f",
   "metadata": {
    "scrolled": true
   },
   "outputs": [
    {
     "data": {
      "text/html": [
       "<div>\n",
       "<style scoped>\n",
       "    .dataframe tbody tr th:only-of-type {\n",
       "        vertical-align: middle;\n",
       "    }\n",
       "\n",
       "    .dataframe tbody tr th {\n",
       "        vertical-align: top;\n",
       "    }\n",
       "\n",
       "    .dataframe thead th {\n",
       "        text-align: right;\n",
       "    }\n",
       "</style>\n",
       "<table border=\"1\" class=\"dataframe\">\n",
       "  <thead>\n",
       "    <tr style=\"text-align: right;\">\n",
       "      <th></th>\n",
       "      <th>ID</th>\n",
       "      <th>CREDIT_SCORE</th>\n",
       "      <th>VEHICLE_OWNERSHIP</th>\n",
       "      <th>VEHICLE_YEAR</th>\n",
       "      <th>MARRIED</th>\n",
       "      <th>CHILDREN</th>\n",
       "      <th>POSTAL_CODE</th>\n",
       "      <th>ANNUAL_MILEAGE</th>\n",
       "      <th>SPEEDING_VIOLATIONS</th>\n",
       "      <th>DUIS</th>\n",
       "      <th>PAST_ACCIDENTS</th>\n",
       "      <th>OUTCOME</th>\n",
       "      <th>TOT_DRIVING_VIOLATIONS</th>\n",
       "      <th>VIOLATION_PER_MILEAGE</th>\n",
       "      <th>AGE_26-39</th>\n",
       "      <th>AGE_40-64</th>\n",
       "      <th>AGE_65+</th>\n",
       "      <th>GENDER_male</th>\n",
       "      <th>DRIVING_EXPERIENCE_10-19y</th>\n",
       "      <th>DRIVING_EXPERIENCE_20-29y</th>\n",
       "      <th>DRIVING_EXPERIENCE_30y+</th>\n",
       "      <th>EDUCATION_none</th>\n",
       "      <th>EDUCATION_university</th>\n",
       "      <th>INCOME_poverty</th>\n",
       "      <th>INCOME_upper class</th>\n",
       "      <th>INCOME_working class</th>\n",
       "      <th>TYPE_OF_VEHICLE_SUV</th>\n",
       "      <th>TYPE_OF_VEHICLE_Sedan</th>\n",
       "      <th>TYPE_OF_VEHICLE_Sports Car</th>\n",
       "    </tr>\n",
       "  </thead>\n",
       "  <tbody>\n",
       "    <tr>\n",
       "      <th>0</th>\n",
       "      <td>816393</td>\n",
       "      <td>0.227357</td>\n",
       "      <td>0</td>\n",
       "      <td>1</td>\n",
       "      <td>0</td>\n",
       "      <td>0</td>\n",
       "      <td>2.775558e-17</td>\n",
       "      <td>-0.095232</td>\n",
       "      <td>0</td>\n",
       "      <td>0</td>\n",
       "      <td>0</td>\n",
       "      <td>0.0</td>\n",
       "      <td>0</td>\n",
       "      <td>-0.413211</td>\n",
       "      <td>0</td>\n",
       "      <td>1</td>\n",
       "      <td>0</td>\n",
       "      <td>0</td>\n",
       "      <td>0</td>\n",
       "      <td>1</td>\n",
       "      <td>0</td>\n",
       "      <td>0</td>\n",
       "      <td>1</td>\n",
       "      <td>0</td>\n",
       "      <td>0</td>\n",
       "      <td>0</td>\n",
       "      <td>0</td>\n",
       "      <td>0</td>\n",
       "      <td>1</td>\n",
       "    </tr>\n",
       "    <tr>\n",
       "      <th>1</th>\n",
       "      <td>251762</td>\n",
       "      <td>-0.929130</td>\n",
       "      <td>1</td>\n",
       "      <td>0</td>\n",
       "      <td>1</td>\n",
       "      <td>0</td>\n",
       "      <td>2.775558e-17</td>\n",
       "      <td>-0.760618</td>\n",
       "      <td>0</td>\n",
       "      <td>0</td>\n",
       "      <td>0</td>\n",
       "      <td>1.0</td>\n",
       "      <td>0</td>\n",
       "      <td>-0.413211</td>\n",
       "      <td>1</td>\n",
       "      <td>0</td>\n",
       "      <td>0</td>\n",
       "      <td>1</td>\n",
       "      <td>0</td>\n",
       "      <td>1</td>\n",
       "      <td>0</td>\n",
       "      <td>0</td>\n",
       "      <td>0</td>\n",
       "      <td>0</td>\n",
       "      <td>0</td>\n",
       "      <td>0</td>\n",
       "      <td>0</td>\n",
       "      <td>0</td>\n",
       "      <td>0</td>\n",
       "    </tr>\n",
       "  </tbody>\n",
       "</table>\n",
       "</div>"
      ],
      "text/plain": [
       "       ID  CREDIT_SCORE  VEHICLE_OWNERSHIP  VEHICLE_YEAR  MARRIED  CHILDREN  \\\n",
       "0  816393      0.227357                  0             1        0         0   \n",
       "1  251762     -0.929130                  1             0        1         0   \n",
       "\n",
       "    POSTAL_CODE  ANNUAL_MILEAGE  SPEEDING_VIOLATIONS  DUIS  PAST_ACCIDENTS  \\\n",
       "0  2.775558e-17       -0.095232                    0     0               0   \n",
       "1  2.775558e-17       -0.760618                    0     0               0   \n",
       "\n",
       "   OUTCOME  TOT_DRIVING_VIOLATIONS  VIOLATION_PER_MILEAGE  AGE_26-39  \\\n",
       "0      0.0                       0              -0.413211          0   \n",
       "1      1.0                       0              -0.413211          1   \n",
       "\n",
       "   AGE_40-64  AGE_65+  GENDER_male  DRIVING_EXPERIENCE_10-19y  \\\n",
       "0          1        0            0                          0   \n",
       "1          0        0            1                          0   \n",
       "\n",
       "   DRIVING_EXPERIENCE_20-29y  DRIVING_EXPERIENCE_30y+  EDUCATION_none  \\\n",
       "0                          1                        0               0   \n",
       "1                          1                        0               0   \n",
       "\n",
       "   EDUCATION_university  INCOME_poverty  INCOME_upper class  \\\n",
       "0                     1               0                   0   \n",
       "1                     0               0                   0   \n",
       "\n",
       "   INCOME_working class  TYPE_OF_VEHICLE_SUV  TYPE_OF_VEHICLE_Sedan  \\\n",
       "0                     0                    0                      0   \n",
       "1                     0                    0                      0   \n",
       "\n",
       "   TYPE_OF_VEHICLE_Sports Car  \n",
       "0                           1  \n",
       "1                           0  "
      ]
     },
     "execution_count": 79,
     "metadata": {},
     "output_type": "execute_result"
    }
   ],
   "source": [
    "# Lets check the data again\n",
    "combined.head(2)"
   ]
  },
  {
   "cell_type": "code",
   "execution_count": 80,
   "id": "ae627980",
   "metadata": {},
   "outputs": [],
   "source": [
    "# importing the random forest\n",
    "from sklearn.ensemble import RandomForestClassifier"
   ]
  },
  {
   "cell_type": "code",
   "execution_count": 81,
   "id": "15392c19",
   "metadata": {},
   "outputs": [],
   "source": [
    "# Applying the Random forest after applying the smote\n",
    "\n",
    "rf = RandomForestClassifier(criterion=\"entropy\")\n",
    "\n",
    "pred_smote = rf.fit(smotex,smotey).predict(newtest)"
   ]
  },
  {
   "cell_type": "code",
   "execution_count": 82,
   "id": "660ea14a",
   "metadata": {},
   "outputs": [],
   "source": [
    "# Lets do submission\n",
    "\n",
    "submission[\"OUTCOME\"] = pred_smote\n",
    "submission.to_csv(\"RandomforestAfterSmotemodel.csv\",index=False)  # 0.5587200"
   ]
  },
  {
   "cell_type": "code",
   "execution_count": 83,
   "id": "b89fead1",
   "metadata": {},
   "outputs": [
    {
     "name": "stdout",
     "output_type": "stream",
     "text": [
      "C:\\Users\\agarw\n"
     ]
    }
   ],
   "source": [
    "cd"
   ]
  },
  {
   "cell_type": "code",
   "execution_count": null,
   "id": "ead79bf1",
   "metadata": {},
   "outputs": [],
   "source": []
  }
 ],
 "metadata": {
  "kernelspec": {
   "display_name": "Python 3 (ipykernel)",
   "language": "python",
   "name": "python3"
  },
  "language_info": {
   "codemirror_mode": {
    "name": "ipython",
    "version": 3
   },
   "file_extension": ".py",
   "mimetype": "text/x-python",
   "name": "python",
   "nbconvert_exporter": "python",
   "pygments_lexer": "ipython3",
   "version": "3.9.12"
  }
 },
 "nbformat": 4,
 "nbformat_minor": 5
}
